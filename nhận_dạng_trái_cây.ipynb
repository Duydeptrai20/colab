{
  "nbformat": 4,
  "nbformat_minor": 0,
  "metadata": {
    "colab": {
      "name": "nhận dạng trái cây",
      "provenance": [],
      "collapsed_sections": []
    },
    "kernelspec": {
      "name": "python3",
      "display_name": "Python 3"
    },
    "language_info": {
      "name": "python"
    },
    "accelerator": "GPU"
  },
  "cells": [
    {
      "cell_type": "code",
      "execution_count": null,
      "metadata": {
        "colab": {
          "base_uri": "https://localhost:8080/"
        },
        "id": "skspas7vcLh7",
        "outputId": "5538cb23-7232-4939-f625-23b84a5802aa"
      },
      "outputs": [
        {
          "output_type": "stream",
          "name": "stdout",
          "text": [
            "Drive already mounted at /content/drive; to attempt to forcibly remount, call drive.mount(\"/content/drive\", force_remount=True).\n"
          ]
        }
      ],
      "source": [
        "from google.colab import drive\n",
        "drive.mount('/content/drive')"
      ]
    },
    {
      "cell_type": "code",
      "source": [
        "from keras import datasets, Sequential\n",
        "from keras.layers import Conv2D, Dense, MaxPooling2D, Flatten\n",
        "from keras.preprocessing import  image\n",
        "from keras.preprocessing.image import load_img, img_to_array,array_to_img,ImageDataGenerator\n",
        "import matplotlib.pyplot as plt\n",
        "import seaborn as sns\n",
        "from sklearn.metrics import confusion_matrix\n",
        "import numpy as np\n",
        "from numpy import asarray\n",
        "from numpy import save\n",
        "import keras\n",
        "from keras.utils import np_utils\n",
        "from keras.datasets import cifar10\n",
        "import os\n",
        "from os import listdir\n",
        "import cv2 as cv\n",
        "import tensorflow as tf\n",
        "import random\n",
        "from tensorflow.keras.optimizers import Adam, SGD\n",
        "from sklearn.model_selection import train_test_split"
      ],
      "metadata": {
        "id": "m0I7KoCSpEkD"
      },
      "execution_count": null,
      "outputs": []
    },
    {
      "cell_type": "code",
      "source": [
        "folder = '/content/drive/MyDrive/traicay/data/Training/Apple Red 2' #0\n",
        "folder1='/content/drive/MyDrive/traicay/data/Training/Avocado'\n",
        "folder2='/content/drive/MyDrive/traicay/data/Training/Banana'\n",
        "folder3='/content/drive/MyDrive/traicay/data/Training/Cherry 2'\n",
        "folder4='/content/drive/MyDrive/traicay/data/Training/Grape Pink'\n",
        "folder5='/content/drive/MyDrive/traicay/data/Training/Litchi'\n",
        "folder6='/content/drive/MyDrive/traicay/data/Training/Orange'\n",
        "folder7='/content/drive/MyDrive/traicay/data/Training/Peach'\n",
        "folder8='/content/drive/MyDrive/traicay/data/Training/Pineapple'\n",
        "folder9='/content/drive/MyDrive/traicay/data/Training/Strawberry'\n",
        "\n",
        "folders=[folder,folder1,folder2,folder3,folder4,folder5,folder6,folder7,folder8,folder9]\n",
        "photos, labels = list(), list()\n",
        "for i in range (10):\n",
        "  for file in listdir(folders[i]):\n",
        "    output=i\n",
        "\n",
        "    photo = load_img(folders[i]+'/'+file, target_size=(100,100))\n",
        "    photo = img_to_array(photo)\n",
        "    photos.append(photo)\n",
        "    labels.append(output)\n",
        "photos = asarray(photos)\n",
        "labels = asarray(labels)\n",
        "print(photos.shape, labels.shape)\n",
        "save('fruit_photos.npy',photos)\n",
        "save('fruit_labels.npy',labels)"
      ],
      "metadata": {
        "colab": {
          "base_uri": "https://localhost:8080/"
        },
        "id": "q9Qa41R-vxpr",
        "outputId": "c4d563aa-3b85-4313-e436-8a287d91cc7e"
      },
      "execution_count": null,
      "outputs": [
        {
          "output_type": "stream",
          "name": "stdout",
          "text": [
            "(5082, 100, 100, 3) (5082,)\n"
          ]
        }
      ]
    },
    {
      "cell_type": "code",
      "source": [
        "x_train, x_test, y_train, y_test = train_test_split(photos, labels, test_size=0.3, random_state=2)"
      ],
      "metadata": {
        "id": "mz5rajdnXkzC"
      },
      "execution_count": null,
      "outputs": []
    },
    {
      "cell_type": "code",
      "source": [
        "x_train /= 255\n",
        "x_test /= 255\n",
        "y_train = keras.utils.np_utils.to_categorical(y_train, 10)\n",
        "y_test = keras.utils.np_utils.to_categorical(y_test, 10)"
      ],
      "metadata": {
        "id": "vK_xDEULwnMx"
      },
      "execution_count": null,
      "outputs": []
    },
    {
      "cell_type": "code",
      "source": [
        "#tạo model\n",
        "model = Sequential()\n",
        "model.add(Conv2D(32,(3,3), activation = 'relu', kernel_initializer='he_uniform',padding='same',input_shape=(100,100,3)))\n",
        "model.add(MaxPooling2D((2,2)))\n",
        "model.add(Conv2D(64,(3,3), activation = 'relu', kernel_initializer='he_uniform',padding='same'))\n",
        "model.add(MaxPooling2D((2,2)))\n"
      ],
      "metadata": {
        "id": "OkUCAU0Ew8AY"
      },
      "execution_count": null,
      "outputs": []
    },
    {
      "cell_type": "code",
      "source": [
        "model.add(Flatten())\n",
        "model.add(Dense(128, activation='relu', kernel_initializer='he_uniform'))  #Dense la full connected \n",
        "model.add(Dense(10, activation='Softmax'))"
      ],
      "metadata": {
        "id": "ckIpGrE0xCVf"
      },
      "execution_count": null,
      "outputs": []
    },
    {
      "cell_type": "code",
      "source": [
        "opt = SGD(lr=0.01, momentum=0.9)\n",
        "model.compile(optimizer=opt,loss='categorical_crossentropy',  metrics=['accuracy'])"
      ],
      "metadata": {
        "id": "DShJly33xD9x",
        "colab": {
          "base_uri": "https://localhost:8080/"
        },
        "outputId": "c68c4d30-5ff7-4607-82d6-51ee26a81c95"
      },
      "execution_count": null,
      "outputs": [
        {
          "output_type": "stream",
          "name": "stderr",
          "text": [
            "/usr/local/lib/python3.7/dist-packages/keras/optimizer_v2/gradient_descent.py:102: UserWarning: The `lr` argument is deprecated, use `learning_rate` instead.\n",
            "  super(SGD, self).__init__(name, **kwargs)\n"
          ]
        }
      ]
    },
    {
      "cell_type": "code",
      "source": [
        "history = model.fit(x_train, y_train, batch_size=128, epochs=100, verbose=1,validation_data=(x_test, y_test))"
      ],
      "metadata": {
        "id": "PShKFkTvxxQU",
        "colab": {
          "base_uri": "https://localhost:8080/"
        },
        "outputId": "782959f3-62ac-45f5-bd2e-bc6c8fa4934c"
      },
      "execution_count": null,
      "outputs": [
        {
          "output_type": "stream",
          "name": "stdout",
          "text": [
            "Epoch 1/100\n",
            "28/28 [==============================] - 14s 117ms/step - loss: 2.5032 - accuracy: 0.4307 - val_loss: 0.7337 - val_accuracy: 0.7567\n",
            "Epoch 2/100\n",
            "28/28 [==============================] - 2s 82ms/step - loss: 0.2684 - accuracy: 0.9002 - val_loss: 0.0376 - val_accuracy: 0.9954\n",
            "Epoch 3/100\n",
            "28/28 [==============================] - 2s 82ms/step - loss: 0.0165 - accuracy: 0.9966 - val_loss: 0.0064 - val_accuracy: 0.9974\n",
            "Epoch 4/100\n",
            "28/28 [==============================] - 3s 92ms/step - loss: 0.0018 - accuracy: 0.9997 - val_loss: 0.0046 - val_accuracy: 0.9993\n",
            "Epoch 5/100\n",
            "28/28 [==============================] - 2s 81ms/step - loss: 0.0011 - accuracy: 1.0000 - val_loss: 0.0032 - val_accuracy: 0.9993\n",
            "Epoch 6/100\n",
            "28/28 [==============================] - 2s 82ms/step - loss: 6.1758e-04 - accuracy: 1.0000 - val_loss: 0.0032 - val_accuracy: 0.9993\n",
            "Epoch 7/100\n",
            "28/28 [==============================] - 2s 83ms/step - loss: 5.0492e-04 - accuracy: 1.0000 - val_loss: 0.0032 - val_accuracy: 0.9993\n",
            "Epoch 8/100\n",
            "28/28 [==============================] - 2s 82ms/step - loss: 4.4264e-04 - accuracy: 1.0000 - val_loss: 0.0030 - val_accuracy: 0.9993\n",
            "Epoch 9/100\n",
            "28/28 [==============================] - 2s 83ms/step - loss: 3.9753e-04 - accuracy: 1.0000 - val_loss: 0.0030 - val_accuracy: 0.9993\n",
            "Epoch 10/100\n",
            "28/28 [==============================] - 2s 82ms/step - loss: 3.5483e-04 - accuracy: 1.0000 - val_loss: 0.0029 - val_accuracy: 0.9993\n",
            "Epoch 11/100\n",
            "28/28 [==============================] - 2s 81ms/step - loss: 3.2446e-04 - accuracy: 1.0000 - val_loss: 0.0029 - val_accuracy: 0.9993\n",
            "Epoch 12/100\n",
            "28/28 [==============================] - 2s 81ms/step - loss: 2.9387e-04 - accuracy: 1.0000 - val_loss: 0.0029 - val_accuracy: 0.9993\n",
            "Epoch 13/100\n",
            "28/28 [==============================] - 2s 81ms/step - loss: 2.7204e-04 - accuracy: 1.0000 - val_loss: 0.0028 - val_accuracy: 0.9993\n",
            "Epoch 14/100\n",
            "28/28 [==============================] - 2s 81ms/step - loss: 2.5188e-04 - accuracy: 1.0000 - val_loss: 0.0028 - val_accuracy: 0.9993\n",
            "Epoch 15/100\n",
            "28/28 [==============================] - 2s 80ms/step - loss: 2.3482e-04 - accuracy: 1.0000 - val_loss: 0.0028 - val_accuracy: 0.9993\n",
            "Epoch 16/100\n",
            "28/28 [==============================] - 2s 81ms/step - loss: 2.2181e-04 - accuracy: 1.0000 - val_loss: 0.0028 - val_accuracy: 0.9993\n",
            "Epoch 17/100\n",
            "28/28 [==============================] - 3s 91ms/step - loss: 2.0669e-04 - accuracy: 1.0000 - val_loss: 0.0028 - val_accuracy: 0.9993\n",
            "Epoch 18/100\n",
            "28/28 [==============================] - 2s 80ms/step - loss: 1.9617e-04 - accuracy: 1.0000 - val_loss: 0.0028 - val_accuracy: 0.9993\n",
            "Epoch 19/100\n",
            "28/28 [==============================] - 2s 80ms/step - loss: 1.8470e-04 - accuracy: 1.0000 - val_loss: 0.0028 - val_accuracy: 0.9993\n",
            "Epoch 20/100\n",
            "28/28 [==============================] - 2s 81ms/step - loss: 1.7571e-04 - accuracy: 1.0000 - val_loss: 0.0028 - val_accuracy: 0.9993\n",
            "Epoch 21/100\n",
            "28/28 [==============================] - 2s 81ms/step - loss: 1.6667e-04 - accuracy: 1.0000 - val_loss: 0.0028 - val_accuracy: 0.9993\n",
            "Epoch 22/100\n",
            "28/28 [==============================] - 2s 81ms/step - loss: 1.6077e-04 - accuracy: 1.0000 - val_loss: 0.0027 - val_accuracy: 0.9993\n",
            "Epoch 23/100\n",
            "28/28 [==============================] - 2s 81ms/step - loss: 1.5220e-04 - accuracy: 1.0000 - val_loss: 0.0028 - val_accuracy: 0.9993\n",
            "Epoch 24/100\n",
            "28/28 [==============================] - 2s 82ms/step - loss: 1.4648e-04 - accuracy: 1.0000 - val_loss: 0.0027 - val_accuracy: 0.9993\n",
            "Epoch 25/100\n",
            "28/28 [==============================] - 2s 80ms/step - loss: 1.4031e-04 - accuracy: 1.0000 - val_loss: 0.0027 - val_accuracy: 0.9993\n",
            "Epoch 26/100\n",
            "28/28 [==============================] - 2s 81ms/step - loss: 1.3529e-04 - accuracy: 1.0000 - val_loss: 0.0027 - val_accuracy: 0.9993\n",
            "Epoch 27/100\n",
            "28/28 [==============================] - 2s 80ms/step - loss: 1.2933e-04 - accuracy: 1.0000 - val_loss: 0.0027 - val_accuracy: 0.9993\n",
            "Epoch 28/100\n",
            "28/28 [==============================] - 2s 83ms/step - loss: 1.2450e-04 - accuracy: 1.0000 - val_loss: 0.0027 - val_accuracy: 0.9993\n",
            "Epoch 29/100\n",
            "28/28 [==============================] - 3s 101ms/step - loss: 1.2051e-04 - accuracy: 1.0000 - val_loss: 0.0027 - val_accuracy: 0.9993\n",
            "Epoch 30/100\n",
            "28/28 [==============================] - 3s 92ms/step - loss: 1.1661e-04 - accuracy: 1.0000 - val_loss: 0.0027 - val_accuracy: 0.9993\n",
            "Epoch 31/100\n",
            "28/28 [==============================] - 2s 81ms/step - loss: 1.1253e-04 - accuracy: 1.0000 - val_loss: 0.0027 - val_accuracy: 0.9993\n",
            "Epoch 32/100\n",
            "28/28 [==============================] - 2s 82ms/step - loss: 1.0951e-04 - accuracy: 1.0000 - val_loss: 0.0027 - val_accuracy: 0.9993\n",
            "Epoch 33/100\n",
            "28/28 [==============================] - 2s 83ms/step - loss: 1.0502e-04 - accuracy: 1.0000 - val_loss: 0.0027 - val_accuracy: 0.9993\n",
            "Epoch 34/100\n",
            "28/28 [==============================] - 2s 81ms/step - loss: 1.0227e-04 - accuracy: 1.0000 - val_loss: 0.0027 - val_accuracy: 0.9993\n",
            "Epoch 35/100\n",
            "28/28 [==============================] - 2s 82ms/step - loss: 9.9364e-05 - accuracy: 1.0000 - val_loss: 0.0027 - val_accuracy: 0.9993\n",
            "Epoch 36/100\n",
            "28/28 [==============================] - 2s 81ms/step - loss: 9.6010e-05 - accuracy: 1.0000 - val_loss: 0.0027 - val_accuracy: 0.9993\n",
            "Epoch 37/100\n",
            "28/28 [==============================] - 2s 81ms/step - loss: 9.3752e-05 - accuracy: 1.0000 - val_loss: 0.0027 - val_accuracy: 0.9993\n",
            "Epoch 38/100\n",
            "28/28 [==============================] - 2s 81ms/step - loss: 9.0730e-05 - accuracy: 1.0000 - val_loss: 0.0027 - val_accuracy: 0.9993\n",
            "Epoch 39/100\n",
            "28/28 [==============================] - 2s 81ms/step - loss: 8.8554e-05 - accuracy: 1.0000 - val_loss: 0.0027 - val_accuracy: 0.9993\n",
            "Epoch 40/100\n",
            "28/28 [==============================] - 2s 81ms/step - loss: 8.6056e-05 - accuracy: 1.0000 - val_loss: 0.0027 - val_accuracy: 0.9993\n",
            "Epoch 41/100\n",
            "28/28 [==============================] - 2s 81ms/step - loss: 8.3873e-05 - accuracy: 1.0000 - val_loss: 0.0027 - val_accuracy: 0.9993\n",
            "Epoch 42/100\n",
            "28/28 [==============================] - 2s 81ms/step - loss: 8.1695e-05 - accuracy: 1.0000 - val_loss: 0.0027 - val_accuracy: 0.9993\n",
            "Epoch 43/100\n",
            "28/28 [==============================] - 2s 81ms/step - loss: 7.9703e-05 - accuracy: 1.0000 - val_loss: 0.0027 - val_accuracy: 0.9993\n",
            "Epoch 44/100\n",
            "28/28 [==============================] - 2s 81ms/step - loss: 7.7925e-05 - accuracy: 1.0000 - val_loss: 0.0027 - val_accuracy: 0.9993\n",
            "Epoch 45/100\n",
            "28/28 [==============================] - 2s 81ms/step - loss: 7.5897e-05 - accuracy: 1.0000 - val_loss: 0.0027 - val_accuracy: 0.9993\n",
            "Epoch 46/100\n",
            "28/28 [==============================] - 2s 81ms/step - loss: 7.4634e-05 - accuracy: 1.0000 - val_loss: 0.0027 - val_accuracy: 0.9993\n",
            "Epoch 47/100\n",
            "28/28 [==============================] - 2s 81ms/step - loss: 7.2585e-05 - accuracy: 1.0000 - val_loss: 0.0027 - val_accuracy: 0.9993\n",
            "Epoch 48/100\n",
            "28/28 [==============================] - 2s 81ms/step - loss: 7.1288e-05 - accuracy: 1.0000 - val_loss: 0.0027 - val_accuracy: 0.9993\n",
            "Epoch 49/100\n",
            "28/28 [==============================] - 2s 81ms/step - loss: 6.9132e-05 - accuracy: 1.0000 - val_loss: 0.0027 - val_accuracy: 0.9993\n",
            "Epoch 50/100\n",
            "28/28 [==============================] - 2s 81ms/step - loss: 6.8077e-05 - accuracy: 1.0000 - val_loss: 0.0027 - val_accuracy: 0.9993\n",
            "Epoch 51/100\n",
            "28/28 [==============================] - 2s 81ms/step - loss: 6.6516e-05 - accuracy: 1.0000 - val_loss: 0.0027 - val_accuracy: 0.9993\n",
            "Epoch 52/100\n",
            "28/28 [==============================] - 2s 81ms/step - loss: 6.5001e-05 - accuracy: 1.0000 - val_loss: 0.0027 - val_accuracy: 0.9993\n",
            "Epoch 53/100\n",
            "28/28 [==============================] - 2s 81ms/step - loss: 6.3918e-05 - accuracy: 1.0000 - val_loss: 0.0027 - val_accuracy: 0.9993\n",
            "Epoch 54/100\n",
            "28/28 [==============================] - 2s 82ms/step - loss: 6.2511e-05 - accuracy: 1.0000 - val_loss: 0.0027 - val_accuracy: 0.9993\n",
            "Epoch 55/100\n",
            "28/28 [==============================] - 2s 82ms/step - loss: 6.1417e-05 - accuracy: 1.0000 - val_loss: 0.0027 - val_accuracy: 0.9993\n",
            "Epoch 56/100\n",
            "28/28 [==============================] - 2s 82ms/step - loss: 6.0263e-05 - accuracy: 1.0000 - val_loss: 0.0027 - val_accuracy: 0.9993\n",
            "Epoch 57/100\n",
            "28/28 [==============================] - 2s 82ms/step - loss: 5.9087e-05 - accuracy: 1.0000 - val_loss: 0.0027 - val_accuracy: 0.9993\n",
            "Epoch 58/100\n",
            "28/28 [==============================] - 2s 81ms/step - loss: 5.8015e-05 - accuracy: 1.0000 - val_loss: 0.0027 - val_accuracy: 0.9993\n",
            "Epoch 59/100\n",
            "28/28 [==============================] - 3s 92ms/step - loss: 5.6930e-05 - accuracy: 1.0000 - val_loss: 0.0027 - val_accuracy: 0.9993\n",
            "Epoch 60/100\n",
            "28/28 [==============================] - 2s 82ms/step - loss: 5.5936e-05 - accuracy: 1.0000 - val_loss: 0.0027 - val_accuracy: 0.9993\n",
            "Epoch 61/100\n",
            "28/28 [==============================] - 2s 82ms/step - loss: 5.4993e-05 - accuracy: 1.0000 - val_loss: 0.0027 - val_accuracy: 0.9993\n",
            "Epoch 62/100\n",
            "28/28 [==============================] - 2s 82ms/step - loss: 5.3976e-05 - accuracy: 1.0000 - val_loss: 0.0027 - val_accuracy: 0.9993\n",
            "Epoch 63/100\n",
            "28/28 [==============================] - 2s 81ms/step - loss: 5.3095e-05 - accuracy: 1.0000 - val_loss: 0.0027 - val_accuracy: 0.9993\n",
            "Epoch 64/100\n",
            "28/28 [==============================] - 2s 81ms/step - loss: 5.2134e-05 - accuracy: 1.0000 - val_loss: 0.0027 - val_accuracy: 0.9993\n",
            "Epoch 65/100\n",
            "28/28 [==============================] - 2s 82ms/step - loss: 5.1211e-05 - accuracy: 1.0000 - val_loss: 0.0027 - val_accuracy: 0.9993\n",
            "Epoch 66/100\n",
            "28/28 [==============================] - 2s 81ms/step - loss: 5.0405e-05 - accuracy: 1.0000 - val_loss: 0.0027 - val_accuracy: 0.9993\n",
            "Epoch 67/100\n",
            "28/28 [==============================] - 2s 82ms/step - loss: 4.9519e-05 - accuracy: 1.0000 - val_loss: 0.0027 - val_accuracy: 0.9993\n",
            "Epoch 68/100\n",
            "28/28 [==============================] - 2s 82ms/step - loss: 4.8892e-05 - accuracy: 1.0000 - val_loss: 0.0027 - val_accuracy: 0.9993\n",
            "Epoch 69/100\n",
            "28/28 [==============================] - 2s 81ms/step - loss: 4.8140e-05 - accuracy: 1.0000 - val_loss: 0.0027 - val_accuracy: 0.9993\n",
            "Epoch 70/100\n",
            "28/28 [==============================] - 2s 82ms/step - loss: 4.7251e-05 - accuracy: 1.0000 - val_loss: 0.0027 - val_accuracy: 0.9993\n",
            "Epoch 71/100\n",
            "28/28 [==============================] - 2s 81ms/step - loss: 4.6568e-05 - accuracy: 1.0000 - val_loss: 0.0027 - val_accuracy: 0.9993\n",
            "Epoch 72/100\n",
            "28/28 [==============================] - 2s 81ms/step - loss: 4.5804e-05 - accuracy: 1.0000 - val_loss: 0.0027 - val_accuracy: 0.9993\n",
            "Epoch 73/100\n",
            "28/28 [==============================] - 2s 82ms/step - loss: 4.5176e-05 - accuracy: 1.0000 - val_loss: 0.0027 - val_accuracy: 0.9993\n",
            "Epoch 74/100\n",
            "28/28 [==============================] - 2s 81ms/step - loss: 4.4607e-05 - accuracy: 1.0000 - val_loss: 0.0027 - val_accuracy: 0.9993\n",
            "Epoch 75/100\n",
            "28/28 [==============================] - 2s 81ms/step - loss: 4.3835e-05 - accuracy: 1.0000 - val_loss: 0.0027 - val_accuracy: 0.9993\n",
            "Epoch 76/100\n",
            "28/28 [==============================] - 2s 81ms/step - loss: 4.3303e-05 - accuracy: 1.0000 - val_loss: 0.0027 - val_accuracy: 0.9993\n",
            "Epoch 77/100\n",
            "28/28 [==============================] - 2s 82ms/step - loss: 4.2583e-05 - accuracy: 1.0000 - val_loss: 0.0027 - val_accuracy: 0.9993\n",
            "Epoch 78/100\n",
            "28/28 [==============================] - 2s 81ms/step - loss: 4.1982e-05 - accuracy: 1.0000 - val_loss: 0.0027 - val_accuracy: 0.9993\n",
            "Epoch 79/100\n",
            "28/28 [==============================] - 2s 82ms/step - loss: 4.1386e-05 - accuracy: 1.0000 - val_loss: 0.0027 - val_accuracy: 0.9993\n",
            "Epoch 80/100\n",
            "28/28 [==============================] - 2s 82ms/step - loss: 4.0812e-05 - accuracy: 1.0000 - val_loss: 0.0027 - val_accuracy: 0.9993\n",
            "Epoch 81/100\n",
            "28/28 [==============================] - 2s 83ms/step - loss: 4.0390e-05 - accuracy: 1.0000 - val_loss: 0.0027 - val_accuracy: 0.9993\n",
            "Epoch 82/100\n",
            "28/28 [==============================] - 3s 93ms/step - loss: 3.9748e-05 - accuracy: 1.0000 - val_loss: 0.0027 - val_accuracy: 0.9993\n",
            "Epoch 83/100\n",
            "28/28 [==============================] - 2s 81ms/step - loss: 3.9241e-05 - accuracy: 1.0000 - val_loss: 0.0027 - val_accuracy: 0.9993\n",
            "Epoch 84/100\n",
            "28/28 [==============================] - 2s 83ms/step - loss: 3.8708e-05 - accuracy: 1.0000 - val_loss: 0.0027 - val_accuracy: 0.9993\n",
            "Epoch 85/100\n",
            "28/28 [==============================] - 2s 82ms/step - loss: 3.8211e-05 - accuracy: 1.0000 - val_loss: 0.0027 - val_accuracy: 0.9993\n",
            "Epoch 86/100\n",
            "28/28 [==============================] - 2s 82ms/step - loss: 3.7741e-05 - accuracy: 1.0000 - val_loss: 0.0027 - val_accuracy: 0.9993\n",
            "Epoch 87/100\n",
            "28/28 [==============================] - 2s 82ms/step - loss: 3.7243e-05 - accuracy: 1.0000 - val_loss: 0.0027 - val_accuracy: 0.9993\n",
            "Epoch 88/100\n",
            "28/28 [==============================] - 2s 81ms/step - loss: 3.6797e-05 - accuracy: 1.0000 - val_loss: 0.0027 - val_accuracy: 0.9993\n",
            "Epoch 89/100\n",
            "28/28 [==============================] - 2s 81ms/step - loss: 3.6411e-05 - accuracy: 1.0000 - val_loss: 0.0027 - val_accuracy: 0.9993\n",
            "Epoch 90/100\n",
            "28/28 [==============================] - 2s 81ms/step - loss: 3.5971e-05 - accuracy: 1.0000 - val_loss: 0.0027 - val_accuracy: 0.9993\n",
            "Epoch 91/100\n",
            "28/28 [==============================] - 2s 82ms/step - loss: 3.5452e-05 - accuracy: 1.0000 - val_loss: 0.0027 - val_accuracy: 0.9993\n",
            "Epoch 92/100\n",
            "28/28 [==============================] - 2s 81ms/step - loss: 3.5086e-05 - accuracy: 1.0000 - val_loss: 0.0027 - val_accuracy: 0.9993\n",
            "Epoch 93/100\n",
            "28/28 [==============================] - 2s 81ms/step - loss: 3.4603e-05 - accuracy: 1.0000 - val_loss: 0.0027 - val_accuracy: 0.9993\n",
            "Epoch 94/100\n",
            "28/28 [==============================] - 2s 80ms/step - loss: 3.4267e-05 - accuracy: 1.0000 - val_loss: 0.0027 - val_accuracy: 0.9993\n",
            "Epoch 95/100\n",
            "28/28 [==============================] - 3s 92ms/step - loss: 3.3840e-05 - accuracy: 1.0000 - val_loss: 0.0027 - val_accuracy: 0.9993\n",
            "Epoch 96/100\n",
            "28/28 [==============================] - 2s 81ms/step - loss: 3.3510e-05 - accuracy: 1.0000 - val_loss: 0.0027 - val_accuracy: 0.9993\n",
            "Epoch 97/100\n",
            "28/28 [==============================] - 2s 81ms/step - loss: 3.3041e-05 - accuracy: 1.0000 - val_loss: 0.0027 - val_accuracy: 0.9993\n",
            "Epoch 98/100\n",
            "28/28 [==============================] - 2s 81ms/step - loss: 3.2659e-05 - accuracy: 1.0000 - val_loss: 0.0027 - val_accuracy: 0.9993\n",
            "Epoch 99/100\n",
            "28/28 [==============================] - 2s 81ms/step - loss: 3.2345e-05 - accuracy: 1.0000 - val_loss: 0.0027 - val_accuracy: 0.9993\n",
            "Epoch 100/100\n",
            "28/28 [==============================] - 2s 81ms/step - loss: 3.1973e-05 - accuracy: 1.0000 - val_loss: 0.0027 - val_accuracy: 0.9993\n"
          ]
        }
      ]
    },
    {
      "cell_type": "code",
      "source": [
        "from keras.preprocessing import image\n",
        "pic = image.load_img('/content/chuoi.jpg', target_size=(100,100)) \n",
        "plt.imshow(pic)\n",
        "pic = img_to_array(pic)\n",
        "pic = pic.reshape(1,100,100,3) \n",
        "pic = pic.astype('float32')\n",
        "pic = pic/255\n",
        "np.argmax(model.predict(pic), axis=1)\n",
        "# apple, avocado, banana, cherry, grapepink, litchi, orange, peach, pineapple, strawberry\n",
        "#0,1,2,3,4,5,6,7,8,9"
      ],
      "metadata": {
        "colab": {
          "base_uri": "https://localhost:8080/",
          "height": 285
        },
        "id": "b2w_yP52Z20K",
        "outputId": "a449f8e1-906c-47c5-d0f0-ddf31a643ba2"
      },
      "execution_count": null,
      "outputs": [
        {
          "output_type": "execute_result",
          "data": {
            "text/plain": [
              "array([2])"
            ]
          },
          "metadata": {},
          "execution_count": 15
        },
        {
          "output_type": "display_data",
          "data": {
            "text/plain": [
              "<Figure size 432x288 with 1 Axes>"
            ],
            "image/png": "[encoded data removed]"
          },
          "metadata": {
            "needs_background": "light"
          }
        }
      ]
    }
  ]
}