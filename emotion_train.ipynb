{
  "nbformat": 4,
  "nbformat_minor": 0,
  "metadata": {
    "colab": {
      "name": "emotion train",
      "provenance": [],
      "collapsed_sections": []
    },
    "kernelspec": {
      "name": "python3",
      "display_name": "Python 3"
    },
    "language_info": {
      "name": "python"
    },
    "accelerator": "GPU"
  },
  "cells": [
    {
      "cell_type": "code",
      "execution_count": null,
      "metadata": {
        "colab": {
          "base_uri": "https://localhost:8080/"
        },
        "id": "o3gkKvJ6vQcZ",
        "outputId": "c3ac1d28-69f1-4a55-bb9f-ffbdc600c77b"
      },
      "outputs": [
        {
          "output_type": "stream",
          "name": "stdout",
          "text": [
            "Mounted at /content/drive\n"
          ]
        }
      ],
      "source": [
        "from google.colab import drive \n",
        "drive.mount('/content/drive')"
      ]
    },
    {
      "cell_type": "code",
      "source": [
        "from keras import datasets, Sequential\n",
        "from keras.layers import Conv2D, Dense, MaxPooling2D, Flatten\n",
        "from keras.preprocessing import  image\n",
        "from keras.preprocessing.image import load_img, img_to_array,array_to_img,ImageDataGenerator\n",
        "import matplotlib.pyplot as plt\n",
        "import seaborn as sns\n",
        "import numpy as np\n",
        "from numpy import asarray\n",
        "from numpy import save\n",
        "import keras\n",
        "import os\n",
        "from os import listdir\n",
        "import cv2 as cv\n",
        "import tensorflow as tf\n",
        "from tensorflow.keras.optimizers import Adam, SGD\n",
        "from sklearn.model_selection import train_test_split"
      ],
      "metadata": {
        "id": "EZryFs5mvhXC"
      },
      "execution_count": null,
      "outputs": []
    },
    {
      "cell_type": "code",
      "source": [
        "folder  = '/content/drive/MyDrive/emotion/angry'\n",
        "folder1 ='/content/drive/MyDrive/emotion/disgust'\n",
        "folder2 = '/content/drive/MyDrive/emotion/fear'\n",
        "folder3 = '/content/drive/MyDrive/emotion/happy'\n",
        "folder4 = '/content/drive/MyDrive/emotion/neutral'\n",
        "folder5 = '/content/drive/MyDrive/emotion/sad'\n",
        "folder6 = '/content/drive/MyDrive/emotion/surprise'\n",
        "folders=[folder,folder1,folder2,folder3,folder4,folder5,folder6]\n",
        "photos, labels = list(), list()\n",
        "for i in range (7):\n",
        "  for file in listdir(folders[i]):\n",
        "    output=i\n",
        "\n",
        "    photo = load_img(folders[i]+'/'+file, target_size=(48,48))\n",
        "    photo = img_to_array(photo)\n",
        "    photos.append(photo)\n",
        "    labels.append(output)\n",
        "photos = asarray(photos)\n",
        "labels = asarray(labels)\n",
        "print(photos.shape, labels.shape)\n",
        "save('/content/drive/MyDrive/emotion1/emotion_photos.npy',photos)\n",
        "save('/content/drive/MyDrive/emotion1/emotion_labels.npy',labels)"
      ],
      "metadata": {
        "colab": {
          "base_uri": "https://localhost:8080/"
        },
        "id": "emOnBgb7vj9x",
        "outputId": "459d8c0b-4470-4bdb-836e-11712e6eb295"
      },
      "execution_count": null,
      "outputs": [
        {
          "output_type": "stream",
          "name": "stdout",
          "text": [
            "(34826, 48, 48, 3) (34826,)\n"
          ]
        }
      ]
    },
    {
      "cell_type": "code",
      "source": [
        "x_train, x_test, y_train, y_test = train_test_split(photos, labels, test_size=0.3, random_state=2)"
      ],
      "metadata": {
        "id": "A9VWs_kCwRgg"
      },
      "execution_count": null,
      "outputs": []
    },
    {
      "cell_type": "code",
      "source": [
        "x_train /= 255\n",
        "x_test /= 255\n",
        "y_train = keras.utils.np_utils.to_categorical(y_train)\n",
        "y_test = keras.utils.np_utils.to_categorical(y_test)"
      ],
      "metadata": {
        "id": "y_fIyeTXwUlX"
      },
      "execution_count": null,
      "outputs": []
    },
    {
      "cell_type": "code",
      "source": [
        "#tạo model\n",
        "model = Sequential()\n",
        "model.add(Conv2D(32,(3,3), activation = 'relu', kernel_initializer='he_uniform',padding='same',input_shape=(48,48,3)))\n",
        "model.add(MaxPooling2D((2,2)))\n",
        "\n",
        "model.add(Conv2D(64,(3,3), activation = 'relu', kernel_initializer='he_uniform',padding='same'))\n",
        "model.add(MaxPooling2D((2,2)))\n",
        "\n",
        "model.add(Conv2D(128,(3,3), activation = 'relu', kernel_initializer='he_uniform',padding='same'))\n",
        "model.add(MaxPooling2D((2,2)))\n",
        "\n",
        "model.add(Conv2D(512,(3,3), activation = 'relu', kernel_initializer='he_uniform',padding='same'))\n",
        "model.add(MaxPooling2D((2,2)))\n"
      ],
      "metadata": {
        "id": "b3tzYsmbwWe5"
      },
      "execution_count": null,
      "outputs": []
    },
    {
      "cell_type": "code",
      "source": [
        "model.add(Flatten())\n",
        "model.add(Dense(512, activation='relu', kernel_initializer='he_uniform'))  #Dense la full connected \n",
        "model.add(Dense(7, activation='Softmax'))"
      ],
      "metadata": {
        "id": "EEimotJbwYoT"
      },
      "execution_count": null,
      "outputs": []
    },
    {
      "cell_type": "code",
      "source": [
        "opt = SGD(lr=0.01, momentum=0.9)\n",
        "model.compile(optimizer=opt,loss='categorical_crossentropy',  metrics=['accuracy'])"
      ],
      "metadata": {
        "colab": {
          "base_uri": "https://localhost:8080/"
        },
        "id": "XKuU-KX5wfv9",
        "outputId": "c2904dac-f337-43f7-b843-8fada214100b"
      },
      "execution_count": null,
      "outputs": [
        {
          "output_type": "stream",
          "name": "stderr",
          "text": [
            "/usr/local/lib/python3.7/dist-packages/keras/optimizer_v2/gradient_descent.py:102: UserWarning: The `lr` argument is deprecated, use `learning_rate` instead.\n",
            "  super(SGD, self).__init__(name, **kwargs)\n"
          ]
        }
      ]
    },
    {
      "cell_type": "code",
      "source": [
        "history = model.fit(x_train, y_train, batch_size=128, epochs=100, verbose=1,validation_data=(x_test, y_test))"
      ],
      "metadata": {
        "colab": {
          "base_uri": "https://localhost:8080/"
        },
        "id": "70EEG35jwhJm",
        "outputId": "74b8f20a-b8e4-43e4-8f83-79e6240db08a"
      },
      "execution_count": null,
      "outputs": [
        {
          "output_type": "stream",
          "name": "stdout",
          "text": [
            "Epoch 1/100\n",
            "191/191 [==============================] - 17s 23ms/step - loss: 1.8137 - accuracy: 0.2657 - val_loss: 1.7106 - val_accuracy: 0.3053\n",
            "Epoch 2/100\n",
            "191/191 [==============================] - 4s 19ms/step - loss: 1.6132 - accuracy: 0.3680 - val_loss: 1.5339 - val_accuracy: 0.4051\n",
            "Epoch 3/100\n",
            "191/191 [==============================] - 4s 19ms/step - loss: 1.4713 - accuracy: 0.4404 - val_loss: 1.4614 - val_accuracy: 0.4383\n",
            "Epoch 4/100\n",
            "191/191 [==============================] - 4s 21ms/step - loss: 1.3602 - accuracy: 0.4840 - val_loss: 1.3588 - val_accuracy: 0.4900\n",
            "Epoch 5/100\n",
            "191/191 [==============================] - 4s 19ms/step - loss: 1.2558 - accuracy: 0.5242 - val_loss: 1.3035 - val_accuracy: 0.5033\n",
            "Epoch 6/100\n",
            "191/191 [==============================] - 4s 19ms/step - loss: 1.1682 - accuracy: 0.5624 - val_loss: 1.2485 - val_accuracy: 0.5268\n",
            "Epoch 7/100\n",
            "191/191 [==============================] - 4s 19ms/step - loss: 1.0757 - accuracy: 0.6014 - val_loss: 1.2429 - val_accuracy: 0.5320\n",
            "Epoch 8/100\n",
            "191/191 [==============================] - 4s 19ms/step - loss: 0.9826 - accuracy: 0.6335 - val_loss: 1.2512 - val_accuracy: 0.5446\n",
            "Epoch 9/100\n",
            "191/191 [==============================] - 4s 20ms/step - loss: 0.8774 - accuracy: 0.6775 - val_loss: 1.3004 - val_accuracy: 0.5372\n",
            "Epoch 10/100\n",
            "191/191 [==============================] - 4s 19ms/step - loss: 0.7768 - accuracy: 0.7146 - val_loss: 1.2802 - val_accuracy: 0.5513\n",
            "Epoch 11/100\n",
            "191/191 [==============================] - 4s 20ms/step - loss: 0.6641 - accuracy: 0.7604 - val_loss: 1.3715 - val_accuracy: 0.5491\n",
            "Epoch 12/100\n",
            "191/191 [==============================] - 4s 20ms/step - loss: 0.5609 - accuracy: 0.7956 - val_loss: 1.5719 - val_accuracy: 0.5059\n",
            "Epoch 13/100\n",
            "191/191 [==============================] - 4s 19ms/step - loss: 0.4649 - accuracy: 0.8329 - val_loss: 1.5703 - val_accuracy: 0.5498\n",
            "Epoch 14/100\n",
            "191/191 [==============================] - 4s 20ms/step - loss: 0.3670 - accuracy: 0.8680 - val_loss: 1.7044 - val_accuracy: 0.5526\n",
            "Epoch 15/100\n",
            "191/191 [==============================] - 4s 20ms/step - loss: 0.2879 - accuracy: 0.8980 - val_loss: 1.9599 - val_accuracy: 0.5356\n",
            "Epoch 16/100\n",
            "191/191 [==============================] - 4s 19ms/step - loss: 0.2464 - accuracy: 0.9147 - val_loss: 2.2965 - val_accuracy: 0.5283\n",
            "Epoch 17/100\n",
            "191/191 [==============================] - 4s 19ms/step - loss: 0.2013 - accuracy: 0.9315 - val_loss: 2.2163 - val_accuracy: 0.5283\n",
            "Epoch 18/100\n",
            "191/191 [==============================] - 4s 19ms/step - loss: 0.1730 - accuracy: 0.9415 - val_loss: 2.2866 - val_accuracy: 0.5412\n",
            "Epoch 19/100\n",
            "191/191 [==============================] - 4s 19ms/step - loss: 0.1293 - accuracy: 0.9569 - val_loss: 2.3981 - val_accuracy: 0.5437\n",
            "Epoch 20/100\n",
            "191/191 [==============================] - 4s 20ms/step - loss: 0.1114 - accuracy: 0.9644 - val_loss: 2.4250 - val_accuracy: 0.5567\n",
            "Epoch 21/100\n",
            "191/191 [==============================] - 4s 20ms/step - loss: 0.0897 - accuracy: 0.9722 - val_loss: 2.5565 - val_accuracy: 0.5633\n",
            "Epoch 22/100\n",
            "191/191 [==============================] - 4s 20ms/step - loss: 0.0866 - accuracy: 0.9737 - val_loss: 2.6344 - val_accuracy: 0.5589\n",
            "Epoch 23/100\n",
            "191/191 [==============================] - 4s 20ms/step - loss: 0.0622 - accuracy: 0.9825 - val_loss: 2.7638 - val_accuracy: 0.5479\n",
            "Epoch 24/100\n",
            "191/191 [==============================] - 4s 20ms/step - loss: 0.0490 - accuracy: 0.9860 - val_loss: 2.7812 - val_accuracy: 0.5525\n",
            "Epoch 25/100\n",
            "191/191 [==============================] - 4s 20ms/step - loss: 0.0463 - accuracy: 0.9881 - val_loss: 2.8119 - val_accuracy: 0.5521\n",
            "Epoch 26/100\n",
            "191/191 [==============================] - 4s 20ms/step - loss: 0.0357 - accuracy: 0.9916 - val_loss: 2.9261 - val_accuracy: 0.5633\n",
            "Epoch 27/100\n",
            "191/191 [==============================] - 4s 20ms/step - loss: 0.0314 - accuracy: 0.9922 - val_loss: 2.7905 - val_accuracy: 0.5545\n",
            "Epoch 28/100\n",
            "191/191 [==============================] - 4s 20ms/step - loss: 0.0256 - accuracy: 0.9949 - val_loss: 2.9586 - val_accuracy: 0.5670\n",
            "Epoch 29/100\n",
            "191/191 [==============================] - 4s 20ms/step - loss: 0.0195 - accuracy: 0.9967 - val_loss: 2.9824 - val_accuracy: 0.5666\n",
            "Epoch 30/100\n",
            "191/191 [==============================] - 4s 20ms/step - loss: 0.0149 - accuracy: 0.9973 - val_loss: 2.9764 - val_accuracy: 0.5664\n",
            "Epoch 31/100\n",
            "191/191 [==============================] - 4s 20ms/step - loss: 0.0132 - accuracy: 0.9974 - val_loss: 2.8031 - val_accuracy: 0.5674\n",
            "Epoch 32/100\n",
            "191/191 [==============================] - 4s 20ms/step - loss: 0.0112 - accuracy: 0.9977 - val_loss: 2.8390 - val_accuracy: 0.5621\n",
            "Epoch 33/100\n",
            "191/191 [==============================] - 4s 20ms/step - loss: 0.0104 - accuracy: 0.9976 - val_loss: 2.8416 - val_accuracy: 0.5656\n",
            "Epoch 34/100\n",
            "191/191 [==============================] - 4s 20ms/step - loss: 0.0094 - accuracy: 0.9977 - val_loss: 2.7963 - val_accuracy: 0.5687\n",
            "Epoch 35/100\n",
            "191/191 [==============================] - 4s 20ms/step - loss: 0.0085 - accuracy: 0.9979 - val_loss: 2.8784 - val_accuracy: 0.5651\n",
            "Epoch 36/100\n",
            "191/191 [==============================] - 4s 20ms/step - loss: 0.0078 - accuracy: 0.9978 - val_loss: 2.9113 - val_accuracy: 0.5655\n",
            "Epoch 37/100\n",
            "191/191 [==============================] - 4s 20ms/step - loss: 0.0091 - accuracy: 0.9976 - val_loss: 2.8532 - val_accuracy: 0.5675\n",
            "Epoch 38/100\n",
            "191/191 [==============================] - 4s 20ms/step - loss: 0.0077 - accuracy: 0.9979 - val_loss: 2.9212 - val_accuracy: 0.5682\n",
            "Epoch 39/100\n",
            "191/191 [==============================] - 4s 20ms/step - loss: 0.0079 - accuracy: 0.9977 - val_loss: 2.8552 - val_accuracy: 0.5708\n",
            "Epoch 40/100\n",
            "191/191 [==============================] - 4s 20ms/step - loss: 0.0073 - accuracy: 0.9979 - val_loss: 2.9012 - val_accuracy: 0.5690\n",
            "Epoch 41/100\n",
            "191/191 [==============================] - 4s 20ms/step - loss: 0.0077 - accuracy: 0.9976 - val_loss: 2.9344 - val_accuracy: 0.5669\n",
            "Epoch 42/100\n",
            "191/191 [==============================] - 4s 20ms/step - loss: 0.0079 - accuracy: 0.9976 - val_loss: 2.7579 - val_accuracy: 0.5645\n",
            "Epoch 43/100\n",
            "191/191 [==============================] - 4s 20ms/step - loss: 0.0067 - accuracy: 0.9978 - val_loss: 2.8609 - val_accuracy: 0.5616\n",
            "Epoch 44/100\n",
            "191/191 [==============================] - 4s 20ms/step - loss: 0.0066 - accuracy: 0.9978 - val_loss: 2.8576 - val_accuracy: 0.5627\n",
            "Epoch 45/100\n",
            "191/191 [==============================] - 4s 21ms/step - loss: 0.0065 - accuracy: 0.9981 - val_loss: 2.9205 - val_accuracy: 0.5661\n",
            "Epoch 46/100\n",
            "191/191 [==============================] - 4s 21ms/step - loss: 0.0062 - accuracy: 0.9978 - val_loss: 2.9660 - val_accuracy: 0.5640\n",
            "Epoch 47/100\n",
            "191/191 [==============================] - 4s 20ms/step - loss: 0.0062 - accuracy: 0.9977 - val_loss: 2.9584 - val_accuracy: 0.5645\n",
            "Epoch 48/100\n",
            "191/191 [==============================] - 4s 20ms/step - loss: 0.0065 - accuracy: 0.9979 - val_loss: 2.9067 - val_accuracy: 0.5641\n",
            "Epoch 49/100\n",
            "191/191 [==============================] - 4s 20ms/step - loss: 0.0065 - accuracy: 0.9976 - val_loss: 2.9184 - val_accuracy: 0.5659\n",
            "Epoch 50/100\n",
            "191/191 [==============================] - 4s 20ms/step - loss: 0.0059 - accuracy: 0.9980 - val_loss: 3.0133 - val_accuracy: 0.5696\n",
            "Epoch 51/100\n",
            "191/191 [==============================] - 4s 20ms/step - loss: 0.0062 - accuracy: 0.9980 - val_loss: 2.9511 - val_accuracy: 0.5685\n",
            "Epoch 52/100\n",
            "191/191 [==============================] - 4s 20ms/step - loss: 0.0060 - accuracy: 0.9979 - val_loss: 2.9032 - val_accuracy: 0.5615\n",
            "Epoch 53/100\n",
            "191/191 [==============================] - 4s 20ms/step - loss: 0.0059 - accuracy: 0.9980 - val_loss: 2.8351 - val_accuracy: 0.5683\n",
            "Epoch 54/100\n",
            "191/191 [==============================] - 4s 20ms/step - loss: 0.0061 - accuracy: 0.9979 - val_loss: 2.8196 - val_accuracy: 0.5694\n",
            "Epoch 55/100\n",
            "191/191 [==============================] - 4s 20ms/step - loss: 0.0060 - accuracy: 0.9979 - val_loss: 2.8666 - val_accuracy: 0.5712\n",
            "Epoch 56/100\n",
            "191/191 [==============================] - 4s 20ms/step - loss: 0.0052 - accuracy: 0.9980 - val_loss: 2.8779 - val_accuracy: 0.5670\n",
            "Epoch 57/100\n",
            "191/191 [==============================] - 4s 20ms/step - loss: 0.0058 - accuracy: 0.9979 - val_loss: 2.9174 - val_accuracy: 0.5663\n",
            "Epoch 58/100\n",
            "191/191 [==============================] - 4s 20ms/step - loss: 0.0057 - accuracy: 0.9978 - val_loss: 2.9630 - val_accuracy: 0.5657\n",
            "Epoch 59/100\n",
            "191/191 [==============================] - 4s 20ms/step - loss: 0.0054 - accuracy: 0.9978 - val_loss: 2.9620 - val_accuracy: 0.5661\n",
            "Epoch 60/100\n",
            "191/191 [==============================] - 4s 20ms/step - loss: 0.0052 - accuracy: 0.9979 - val_loss: 2.9127 - val_accuracy: 0.5676\n",
            "Epoch 61/100\n",
            "191/191 [==============================] - 4s 20ms/step - loss: 0.0055 - accuracy: 0.9977 - val_loss: 2.9178 - val_accuracy: 0.5684\n",
            "Epoch 62/100\n",
            "191/191 [==============================] - 4s 20ms/step - loss: 0.0051 - accuracy: 0.9983 - val_loss: 2.8780 - val_accuracy: 0.5661\n",
            "Epoch 63/100\n",
            "191/191 [==============================] - 4s 20ms/step - loss: 0.0049 - accuracy: 0.9979 - val_loss: 2.9668 - val_accuracy: 0.5661\n",
            "Epoch 64/100\n",
            "191/191 [==============================] - 4s 20ms/step - loss: 0.0051 - accuracy: 0.9982 - val_loss: 2.9004 - val_accuracy: 0.5659\n",
            "Epoch 65/100\n",
            "191/191 [==============================] - 4s 20ms/step - loss: 0.0054 - accuracy: 0.9978 - val_loss: 2.9633 - val_accuracy: 0.5708\n",
            "Epoch 66/100\n",
            "191/191 [==============================] - 4s 20ms/step - loss: 0.0053 - accuracy: 0.9977 - val_loss: 2.9122 - val_accuracy: 0.5659\n",
            "Epoch 67/100\n",
            "191/191 [==============================] - 4s 20ms/step - loss: 0.0049 - accuracy: 0.9980 - val_loss: 2.9311 - val_accuracy: 0.5651\n",
            "Epoch 68/100\n",
            "191/191 [==============================] - 4s 20ms/step - loss: 0.0051 - accuracy: 0.9980 - val_loss: 2.9488 - val_accuracy: 0.5695\n",
            "Epoch 69/100\n",
            "191/191 [==============================] - 4s 20ms/step - loss: 0.0049 - accuracy: 0.9977 - val_loss: 2.9483 - val_accuracy: 0.5675\n",
            "Epoch 70/100\n",
            "191/191 [==============================] - 4s 20ms/step - loss: 0.0051 - accuracy: 0.9980 - val_loss: 2.9771 - val_accuracy: 0.5675\n",
            "Epoch 71/100\n",
            "191/191 [==============================] - 4s 20ms/step - loss: 0.0050 - accuracy: 0.9979 - val_loss: 2.9292 - val_accuracy: 0.5690\n",
            "Epoch 72/100\n",
            "191/191 [==============================] - 4s 20ms/step - loss: 0.0047 - accuracy: 0.9979 - val_loss: 2.9449 - val_accuracy: 0.5644\n",
            "Epoch 73/100\n",
            "191/191 [==============================] - 4s 20ms/step - loss: 0.0052 - accuracy: 0.9978 - val_loss: 2.9596 - val_accuracy: 0.5688\n",
            "Epoch 74/100\n",
            "191/191 [==============================] - 4s 20ms/step - loss: 0.0051 - accuracy: 0.9980 - val_loss: 2.8992 - val_accuracy: 0.5684\n",
            "Epoch 75/100\n",
            "191/191 [==============================] - 4s 20ms/step - loss: 0.0047 - accuracy: 0.9979 - val_loss: 2.9522 - val_accuracy: 0.5652\n",
            "Epoch 76/100\n",
            "191/191 [==============================] - 4s 21ms/step - loss: 0.0050 - accuracy: 0.9979 - val_loss: 2.8749 - val_accuracy: 0.5658\n",
            "Epoch 77/100\n",
            "191/191 [==============================] - 4s 20ms/step - loss: 0.0051 - accuracy: 0.9979 - val_loss: 2.8946 - val_accuracy: 0.5684\n",
            "Epoch 78/100\n",
            "191/191 [==============================] - 4s 20ms/step - loss: 0.0047 - accuracy: 0.9978 - val_loss: 2.9103 - val_accuracy: 0.5659\n",
            "Epoch 79/100\n",
            "191/191 [==============================] - 4s 20ms/step - loss: 0.0045 - accuracy: 0.9983 - val_loss: 2.9023 - val_accuracy: 0.5645\n",
            "Epoch 80/100\n",
            "191/191 [==============================] - 4s 20ms/step - loss: 0.0049 - accuracy: 0.9980 - val_loss: 2.9469 - val_accuracy: 0.5676\n",
            "Epoch 81/100\n",
            "191/191 [==============================] - 4s 20ms/step - loss: 0.0045 - accuracy: 0.9981 - val_loss: 2.9408 - val_accuracy: 0.5673\n",
            "Epoch 82/100\n",
            "191/191 [==============================] - 4s 20ms/step - loss: 0.0042 - accuracy: 0.9982 - val_loss: 2.9827 - val_accuracy: 0.5672\n",
            "Epoch 83/100\n",
            "191/191 [==============================] - 4s 20ms/step - loss: 0.0049 - accuracy: 0.9981 - val_loss: 2.9199 - val_accuracy: 0.5699\n",
            "Epoch 84/100\n",
            "191/191 [==============================] - 4s 21ms/step - loss: 0.0045 - accuracy: 0.9981 - val_loss: 2.9234 - val_accuracy: 0.5672\n",
            "Epoch 85/100\n",
            "191/191 [==============================] - 4s 20ms/step - loss: 0.0043 - accuracy: 0.9980 - val_loss: 2.9836 - val_accuracy: 0.5689\n",
            "Epoch 86/100\n",
            "191/191 [==============================] - 4s 20ms/step - loss: 0.0046 - accuracy: 0.9979 - val_loss: 2.9421 - val_accuracy: 0.5638\n",
            "Epoch 87/100\n",
            "191/191 [==============================] - 4s 21ms/step - loss: 0.0044 - accuracy: 0.9979 - val_loss: 3.0368 - val_accuracy: 0.5689\n",
            "Epoch 88/100\n",
            "191/191 [==============================] - 4s 20ms/step - loss: 0.0045 - accuracy: 0.9979 - val_loss: 3.0184 - val_accuracy: 0.5670\n",
            "Epoch 89/100\n",
            "191/191 [==============================] - 4s 21ms/step - loss: 0.0045 - accuracy: 0.9980 - val_loss: 2.9550 - val_accuracy: 0.5643\n",
            "Epoch 90/100\n",
            "191/191 [==============================] - 4s 20ms/step - loss: 0.0044 - accuracy: 0.9981 - val_loss: 2.9556 - val_accuracy: 0.5661\n",
            "Epoch 91/100\n",
            "191/191 [==============================] - 4s 20ms/step - loss: 0.0045 - accuracy: 0.9981 - val_loss: 2.9447 - val_accuracy: 0.5645\n",
            "Epoch 92/100\n",
            "191/191 [==============================] - 4s 21ms/step - loss: 0.0049 - accuracy: 0.9978 - val_loss: 2.9134 - val_accuracy: 0.5654\n",
            "Epoch 93/100\n",
            "191/191 [==============================] - 4s 21ms/step - loss: 0.0044 - accuracy: 0.9981 - val_loss: 2.9354 - val_accuracy: 0.5660\n",
            "Epoch 94/100\n",
            "191/191 [==============================] - 4s 20ms/step - loss: 0.0047 - accuracy: 0.9979 - val_loss: 2.9864 - val_accuracy: 0.5680\n",
            "Epoch 95/100\n",
            "191/191 [==============================] - 4s 20ms/step - loss: 0.0044 - accuracy: 0.9981 - val_loss: 2.9724 - val_accuracy: 0.5689\n",
            "Epoch 96/100\n",
            "191/191 [==============================] - 4s 20ms/step - loss: 0.0042 - accuracy: 0.9979 - val_loss: 3.0241 - val_accuracy: 0.5636\n",
            "Epoch 97/100\n",
            "191/191 [==============================] - 4s 20ms/step - loss: 0.0044 - accuracy: 0.9979 - val_loss: 2.9306 - val_accuracy: 0.5692\n",
            "Epoch 98/100\n",
            "191/191 [==============================] - 4s 20ms/step - loss: 0.0043 - accuracy: 0.9981 - val_loss: 2.9372 - val_accuracy: 0.5638\n",
            "Epoch 99/100\n",
            "191/191 [==============================] - 4s 20ms/step - loss: 0.0044 - accuracy: 0.9981 - val_loss: 2.9743 - val_accuracy: 0.5624\n",
            "Epoch 100/100\n",
            "191/191 [==============================] - 4s 21ms/step - loss: 0.0043 - accuracy: 0.9982 - val_loss: 2.9810 - val_accuracy: 0.5653\n"
          ]
        }
      ]
    },
    {
      "cell_type": "code",
      "source": [
        "plt.plot(history.history['accuracy'])\n",
        "plt.plot(history.history['val_accuracy'])\n",
        "plt.title('Model Accuracy')\n",
        "plt.xlabel('epoch')\n",
        "plt.legend(['Train','Valition'], loc='upper left')\n",
        "plt.show()"
      ],
      "metadata": {
        "colab": {
          "base_uri": "https://localhost:8080/",
          "height": 295
        },
        "id": "nUn_SPpzXFO1",
        "outputId": "c3748c73-1ec1-47af-8da2-c7ad757ebce6"
      },
      "execution_count": null,
      "outputs": [
        {
          "output_type": "display_data",
          "data": {
            "text/plain": [
              "<Figure size 432x288 with 1 Axes>"
            ],
            "image/png": "[encoded data removed]"
          },
          "metadata": {
            "needs_background": "light"
          }
        }
      ]
    },
    {
      "cell_type": "code",
      "source": [
        "model.save('/content/drive/MyDrive/emotion1/emotion_model.h5')"
      ],
      "metadata": {
        "id": "mFUm06wDw4m2"
      },
      "execution_count": null,
      "outputs": []
    }
  ]
}