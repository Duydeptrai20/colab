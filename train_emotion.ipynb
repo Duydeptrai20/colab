{
  "nbformat": 4,
  "nbformat_minor": 0,
  "metadata": {
    "colab": {
      "name": "train emotion",
      "provenance": [],
      "collapsed_sections": []
    },
    "kernelspec": {
      "name": "python3",
      "display_name": "Python 3"
    },
    "language_info": {
      "name": "python"
    },
    "accelerator": "GPU",
    "gpuClass": "standard"
  },
  "cells": [
    {
      "cell_type": "code",
      "execution_count": null,
      "metadata": {
        "colab": {
          "base_uri": "https://localhost:8080/"
        },
        "id": "o3gkKvJ6vQcZ",
        "outputId": "4ddef9cf-32bc-4b9d-d492-1b2e4a24320a"
      },
      "outputs": [
        {
          "output_type": "stream",
          "name": "stdout",
          "text": [
            "Mounted at /content/drive\n"
          ]
        }
      ],
      "source": [
        "from google.colab import drive \n",
        "drive.mount('/content/drive')"
      ]
    },
    {
      "cell_type": "code",
      "source": [
        "from keras import datasets, Sequential\n",
        "from keras.layers import Conv2D, Dense, MaxPooling2D, Flatten\n",
        "from keras.preprocessing import  image\n",
        "from keras.preprocessing.image import load_img, img_to_array,array_to_img,ImageDataGenerator\n",
        "import matplotlib.pyplot as plt\n",
        "import seaborn as sns\n",
        "import numpy as np\n",
        "from numpy import asarray\n",
        "from numpy import save\n",
        "import keras\n",
        "import os\n",
        "from os import listdir\n",
        "import cv2 as cv\n",
        "import tensorflow as tf\n",
        "from tensorflow.keras.optimizers import Adam, SGD\n",
        "from sklearn.model_selection import train_test_split"
      ],
      "metadata": {
        "id": "EZryFs5mvhXC"
      },
      "execution_count": null,
      "outputs": []
    },
    {
      "cell_type": "code",
      "source": [
        "folder  = '/content/drive/MyDrive/emotion/angry'\n",
        "folder1 ='/content/drive/MyDrive/emotion/disgust'\n",
        "folder2 = '/content/drive/MyDrive/emotion/fear'\n",
        "folder3 = '/content/drive/MyDrive/emotion/happy'\n",
        "folder4 = '/content/drive/MyDrive/emotion/neutral'\n",
        "folder5 = '/content/drive/MyDrive/emotion/sad'\n",
        "folder6 = '/content/drive/MyDrive/emotion/surprise'\n",
        "folders=[folder,folder1,folder2,folder3,folder4,folder5,folder6]\n",
        "photos, labels = list(), list()\n",
        "for i in range (7):\n",
        "  for file in listdir(folders[i]):\n",
        "    output=i\n",
        "    photo = load_img(folders[i]+'/'+file, target_size=(48,48))\n",
        "    photo = img_to_array(photo)\n",
        "    photos.append(photo)\n",
        "    labels.append(output)\n",
        "photos = asarray(photos)\n",
        "labels = asarray(labels)\n",
        "print(photos.shape, labels.shape)\n",
        "save('/content/drive/MyDrive/emotion/emotion_photos.npy',photos)\n",
        "save('/content/drive/MyDrive/emotion/emotion_labels.npy',labels)"
      ],
      "metadata": {
        "colab": {
          "base_uri": "https://localhost:8080/"
        },
        "id": "emOnBgb7vj9x",
        "outputId": "ed2c3266-2615-44a7-f12a-66d035030fec"
      },
      "execution_count": null,
      "outputs": [
        {
          "output_type": "stream",
          "name": "stdout",
          "text": [
            "(34826, 48, 48, 3) (34826,)\n"
          ]
        }
      ]
    },
    {
      "cell_type": "code",
      "source": [
        "x_train, x_test, y_train, y_test = train_test_split(photos, labels, test_size=0.3, random_state=2)\n",
        "x_train /= 255\n",
        "x_test /= 255\n",
        "y_train = keras.utils.np_utils.to_categorical(y_train)\n",
        "y_test = keras.utils.np_utils.to_categorical(y_test)"
      ],
      "metadata": {
        "id": "A9VWs_kCwRgg"
      },
      "execution_count": null,
      "outputs": []
    },
    {
      "cell_type": "code",
      "source": [
        "#tạo model\n",
        "model = Sequential()\n",
        "model.add(Conv2D(32,(3,3), activation = 'relu', kernel_initializer='he_uniform',padding='same',input_shape=(48,48,3)))\n",
        "model.add(MaxPooling2D((2,2)))\n",
        "\n",
        "model.add(Conv2D(64,(3,3), activation = 'relu', kernel_initializer='he_uniform',padding='same'))\n",
        "model.add(MaxPooling2D((2,2)))\n",
        "\n",
        "model.add(Conv2D(128,(3,3), activation = 'relu', kernel_initializer='he_uniform',padding='same'))\n",
        "model.add(MaxPooling2D((2,2)))\n",
        "\n",
        "model.add(Conv2D(512,(3,3), activation = 'relu', kernel_initializer='he_uniform',padding='same'))\n",
        "model.add(MaxPooling2D((2,2)))\n",
        "\n",
        "model.add(Flatten())\n",
        "model.add(Dense(512, activation='relu', kernel_initializer='he_uniform'))  #Dense la full connected \n",
        "model.add(Dense(7, activation='Softmax'))\n",
        "model.summary()\n"
      ],
      "metadata": {
        "id": "b3tzYsmbwWe5",
        "colab": {
          "base_uri": "https://localhost:8080/"
        },
        "outputId": "c921fa05-7755-4960-9f84-03db67bc9332"
      },
      "execution_count": null,
      "outputs": [
        {
          "output_type": "stream",
          "name": "stdout",
          "text": [
            "Model: \"sequential\"\n",
            "_________________________________________________________________\n",
            " Layer (type)                Output Shape              Param #   \n",
            "=================================================================\n",
            " conv2d (Conv2D)             (None, 48, 48, 32)        896       \n",
            "                                                                 \n",
            " max_pooling2d (MaxPooling2D  (None, 24, 24, 32)       0         \n",
            " )                                                               \n",
            "                                                                 \n",
            " conv2d_1 (Conv2D)           (None, 24, 24, 64)        18496     \n",
            "                                                                 \n",
            " max_pooling2d_1 (MaxPooling  (None, 12, 12, 64)       0         \n",
            " 2D)                                                             \n",
            "                                                                 \n",
            " conv2d_2 (Conv2D)           (None, 12, 12, 128)       73856     \n",
            "                                                                 \n",
            " max_pooling2d_2 (MaxPooling  (None, 6, 6, 128)        0         \n",
            " 2D)                                                             \n",
            "                                                                 \n",
            " conv2d_3 (Conv2D)           (None, 6, 6, 512)         590336    \n",
            "                                                                 \n",
            " max_pooling2d_3 (MaxPooling  (None, 3, 3, 512)        0         \n",
            " 2D)                                                             \n",
            "                                                                 \n",
            " flatten (Flatten)           (None, 4608)              0         \n",
            "                                                                 \n",
            " dense (Dense)               (None, 512)               2359808   \n",
            "                                                                 \n",
            " dense_1 (Dense)             (None, 7)                 3591      \n",
            "                                                                 \n",
            "=================================================================\n",
            "Total params: 3,046,983\n",
            "Trainable params: 3,046,983\n",
            "Non-trainable params: 0\n",
            "_________________________________________________________________\n"
          ]
        }
      ]
    },
    {
      "cell_type": "code",
      "source": [
        "opt = SGD(lr=0.01, momentum=0.9)\n",
        "model.compile(optimizer=opt,loss='categorical_crossentropy',  metrics=['accuracy'])\n",
        "history = model.fit(x_train, y_train, batch_size=128, epochs=100, verbose=1,validation_data=(x_test, y_test))"
      ],
      "metadata": {
        "colab": {
          "base_uri": "https://localhost:8080/"
        },
        "id": "70EEG35jwhJm",
        "outputId": "ee6e888a-a952-4c27-d7b8-7315b7516939"
      },
      "execution_count": null,
      "outputs": [
        {
          "output_type": "stream",
          "name": "stderr",
          "text": [
            "/usr/local/lib/python3.7/dist-packages/keras/optimizer_v2/gradient_descent.py:102: UserWarning: The `lr` argument is deprecated, use `learning_rate` instead.\n",
            "  super(SGD, self).__init__(name, **kwargs)\n"
          ]
        },
        {
          "output_type": "stream",
          "name": "stdout",
          "text": [
            "Epoch 1/100\n",
            "191/191 [==============================] - 15s 23ms/step - loss: 1.8439 - accuracy: 0.2600 - val_loss: 1.7507 - val_accuracy: 0.3021\n",
            "Epoch 2/100\n",
            "191/191 [==============================] - 4s 19ms/step - loss: 1.6737 - accuracy: 0.3444 - val_loss: 1.5913 - val_accuracy: 0.3857\n",
            "Epoch 3/100\n",
            "191/191 [==============================] - 4s 19ms/step - loss: 1.5295 - accuracy: 0.4138 - val_loss: 1.4717 - val_accuracy: 0.4414\n",
            "Epoch 4/100\n",
            "191/191 [==============================] - 4s 19ms/step - loss: 1.4351 - accuracy: 0.4539 - val_loss: 1.4466 - val_accuracy: 0.4525\n",
            "Epoch 5/100\n",
            "191/191 [==============================] - 4s 19ms/step - loss: 1.3386 - accuracy: 0.4961 - val_loss: 1.3594 - val_accuracy: 0.4809\n",
            "Epoch 6/100\n",
            "191/191 [==============================] - 5s 25ms/step - loss: 1.2672 - accuracy: 0.5239 - val_loss: 1.4239 - val_accuracy: 0.4576\n",
            "Epoch 7/100\n",
            "191/191 [==============================] - 4s 21ms/step - loss: 1.1828 - accuracy: 0.5570 - val_loss: 1.2622 - val_accuracy: 0.5207\n",
            "Epoch 8/100\n",
            "191/191 [==============================] - 4s 19ms/step - loss: 1.0967 - accuracy: 0.5936 - val_loss: 1.2511 - val_accuracy: 0.5286\n",
            "Epoch 9/100\n",
            "191/191 [==============================] - 4s 20ms/step - loss: 1.0163 - accuracy: 0.6254 - val_loss: 1.3294 - val_accuracy: 0.4855\n",
            "Epoch 10/100\n",
            "191/191 [==============================] - 4s 19ms/step - loss: 0.9133 - accuracy: 0.6640 - val_loss: 1.2888 - val_accuracy: 0.5410\n",
            "Epoch 11/100\n",
            "191/191 [==============================] - 4s 19ms/step - loss: 0.8219 - accuracy: 0.7005 - val_loss: 1.3689 - val_accuracy: 0.5265\n",
            "Epoch 12/100\n",
            "191/191 [==============================] - 4s 20ms/step - loss: 0.7218 - accuracy: 0.7354 - val_loss: 1.3662 - val_accuracy: 0.5235\n",
            "Epoch 13/100\n",
            "191/191 [==============================] - 4s 20ms/step - loss: 0.6103 - accuracy: 0.7801 - val_loss: 1.4313 - val_accuracy: 0.5480\n",
            "Epoch 14/100\n",
            "191/191 [==============================] - 4s 20ms/step - loss: 0.5148 - accuracy: 0.8154 - val_loss: 1.7378 - val_accuracy: 0.5175\n",
            "Epoch 15/100\n",
            "191/191 [==============================] - 4s 19ms/step - loss: 0.4069 - accuracy: 0.8557 - val_loss: 1.9271 - val_accuracy: 0.5290\n",
            "Epoch 16/100\n",
            "191/191 [==============================] - 4s 20ms/step - loss: 0.3376 - accuracy: 0.8799 - val_loss: 1.8652 - val_accuracy: 0.5380\n",
            "Epoch 17/100\n",
            "191/191 [==============================] - 4s 19ms/step - loss: 0.2789 - accuracy: 0.8995 - val_loss: 2.0313 - val_accuracy: 0.5444\n",
            "Epoch 18/100\n",
            "191/191 [==============================] - 4s 20ms/step - loss: 0.2229 - accuracy: 0.9223 - val_loss: 2.2458 - val_accuracy: 0.5254\n",
            "Epoch 19/100\n",
            "191/191 [==============================] - 4s 20ms/step - loss: 0.1972 - accuracy: 0.9319 - val_loss: 2.2665 - val_accuracy: 0.5400\n",
            "Epoch 20/100\n",
            "191/191 [==============================] - 4s 20ms/step - loss: 0.1473 - accuracy: 0.9513 - val_loss: 2.4533 - val_accuracy: 0.5494\n",
            "Epoch 21/100\n",
            "191/191 [==============================] - 4s 20ms/step - loss: 0.1324 - accuracy: 0.9572 - val_loss: 2.5334 - val_accuracy: 0.5421\n",
            "Epoch 22/100\n",
            "191/191 [==============================] - 4s 23ms/step - loss: 0.1150 - accuracy: 0.9632 - val_loss: 2.6287 - val_accuracy: 0.5462\n",
            "Epoch 23/100\n",
            "191/191 [==============================] - 4s 20ms/step - loss: 0.0962 - accuracy: 0.9689 - val_loss: 2.7463 - val_accuracy: 0.5355\n",
            "Epoch 24/100\n",
            "191/191 [==============================] - 4s 20ms/step - loss: 0.0884 - accuracy: 0.9722 - val_loss: 2.6892 - val_accuracy: 0.5464\n",
            "Epoch 25/100\n",
            "191/191 [==============================] - 4s 20ms/step - loss: 0.0743 - accuracy: 0.9783 - val_loss: 3.0195 - val_accuracy: 0.5293\n",
            "Epoch 26/100\n",
            "191/191 [==============================] - 4s 20ms/step - loss: 0.0537 - accuracy: 0.9860 - val_loss: 3.0407 - val_accuracy: 0.5470\n",
            "Epoch 27/100\n",
            "191/191 [==============================] - 4s 20ms/step - loss: 0.0443 - accuracy: 0.9882 - val_loss: 2.9673 - val_accuracy: 0.5488\n",
            "Epoch 28/100\n",
            "191/191 [==============================] - 4s 20ms/step - loss: 0.0337 - accuracy: 0.9930 - val_loss: 3.0206 - val_accuracy: 0.5600\n",
            "Epoch 29/100\n",
            "191/191 [==============================] - 4s 20ms/step - loss: 0.0230 - accuracy: 0.9954 - val_loss: 3.0975 - val_accuracy: 0.5554\n",
            "Epoch 30/100\n",
            "191/191 [==============================] - 4s 20ms/step - loss: 0.0186 - accuracy: 0.9968 - val_loss: 3.0646 - val_accuracy: 0.5597\n",
            "Epoch 31/100\n",
            "191/191 [==============================] - 4s 20ms/step - loss: 0.0180 - accuracy: 0.9963 - val_loss: 3.1723 - val_accuracy: 0.5611\n",
            "Epoch 32/100\n",
            "191/191 [==============================] - 4s 20ms/step - loss: 0.0180 - accuracy: 0.9968 - val_loss: 3.0539 - val_accuracy: 0.5613\n",
            "Epoch 33/100\n",
            "191/191 [==============================] - 4s 20ms/step - loss: 0.0137 - accuracy: 0.9972 - val_loss: 2.9810 - val_accuracy: 0.5610\n",
            "Epoch 34/100\n",
            "191/191 [==============================] - 4s 20ms/step - loss: 0.0117 - accuracy: 0.9977 - val_loss: 2.9321 - val_accuracy: 0.5517\n",
            "Epoch 35/100\n",
            "191/191 [==============================] - 4s 20ms/step - loss: 0.0108 - accuracy: 0.9975 - val_loss: 3.1218 - val_accuracy: 0.5578\n",
            "Epoch 36/100\n",
            "191/191 [==============================] - 4s 20ms/step - loss: 0.0106 - accuracy: 0.9975 - val_loss: 3.1056 - val_accuracy: 0.5633\n",
            "Epoch 37/100\n",
            "191/191 [==============================] - 4s 21ms/step - loss: 0.0119 - accuracy: 0.9974 - val_loss: 2.8632 - val_accuracy: 0.5551\n",
            "Epoch 38/100\n",
            "191/191 [==============================] - 4s 22ms/step - loss: 0.0093 - accuracy: 0.9977 - val_loss: 3.0005 - val_accuracy: 0.5618\n",
            "Epoch 39/100\n",
            "191/191 [==============================] - 4s 20ms/step - loss: 0.0079 - accuracy: 0.9978 - val_loss: 2.9767 - val_accuracy: 0.5597\n",
            "Epoch 40/100\n",
            "191/191 [==============================] - 4s 20ms/step - loss: 0.0100 - accuracy: 0.9977 - val_loss: 2.9869 - val_accuracy: 0.5631\n",
            "Epoch 41/100\n",
            "191/191 [==============================] - 4s 20ms/step - loss: 0.0087 - accuracy: 0.9975 - val_loss: 3.0741 - val_accuracy: 0.5630\n",
            "Epoch 42/100\n",
            "191/191 [==============================] - 4s 20ms/step - loss: 0.0078 - accuracy: 0.9978 - val_loss: 2.9652 - val_accuracy: 0.5592\n",
            "Epoch 43/100\n",
            "191/191 [==============================] - 4s 20ms/step - loss: 0.0077 - accuracy: 0.9976 - val_loss: 3.0043 - val_accuracy: 0.5610\n",
            "Epoch 44/100\n",
            "191/191 [==============================] - 4s 20ms/step - loss: 0.0074 - accuracy: 0.9979 - val_loss: 3.0713 - val_accuracy: 0.5617\n",
            "Epoch 45/100\n",
            "191/191 [==============================] - 4s 20ms/step - loss: 0.0078 - accuracy: 0.9976 - val_loss: 3.1062 - val_accuracy: 0.5606\n",
            "Epoch 46/100\n",
            "191/191 [==============================] - 4s 20ms/step - loss: 0.0066 - accuracy: 0.9980 - val_loss: 2.9905 - val_accuracy: 0.5602\n",
            "Epoch 47/100\n",
            "191/191 [==============================] - 4s 20ms/step - loss: 0.0066 - accuracy: 0.9979 - val_loss: 3.0500 - val_accuracy: 0.5550\n",
            "Epoch 48/100\n",
            "191/191 [==============================] - 4s 20ms/step - loss: 0.0062 - accuracy: 0.9981 - val_loss: 3.0726 - val_accuracy: 0.5644\n",
            "Epoch 49/100\n",
            "191/191 [==============================] - 4s 20ms/step - loss: 0.0063 - accuracy: 0.9979 - val_loss: 3.0204 - val_accuracy: 0.5598\n",
            "Epoch 50/100\n",
            "191/191 [==============================] - 4s 20ms/step - loss: 0.0062 - accuracy: 0.9980 - val_loss: 3.0749 - val_accuracy: 0.5589\n",
            "Epoch 51/100\n",
            "191/191 [==============================] - 4s 20ms/step - loss: 0.0059 - accuracy: 0.9977 - val_loss: 3.0684 - val_accuracy: 0.5578\n",
            "Epoch 52/100\n",
            "191/191 [==============================] - 4s 20ms/step - loss: 0.0065 - accuracy: 0.9980 - val_loss: 2.9850 - val_accuracy: 0.5604\n",
            "Epoch 53/100\n",
            "191/191 [==============================] - 4s 22ms/step - loss: 0.0056 - accuracy: 0.9979 - val_loss: 3.0734 - val_accuracy: 0.5591\n",
            "Epoch 54/100\n",
            "191/191 [==============================] - 4s 22ms/step - loss: 0.0056 - accuracy: 0.9979 - val_loss: 3.0904 - val_accuracy: 0.5630\n",
            "Epoch 55/100\n",
            "191/191 [==============================] - 4s 20ms/step - loss: 0.0058 - accuracy: 0.9978 - val_loss: 3.0705 - val_accuracy: 0.5614\n",
            "Epoch 56/100\n",
            "191/191 [==============================] - 4s 20ms/step - loss: 0.0059 - accuracy: 0.9978 - val_loss: 3.0793 - val_accuracy: 0.5599\n",
            "Epoch 57/100\n",
            "191/191 [==============================] - 4s 22ms/step - loss: 0.0053 - accuracy: 0.9980 - val_loss: 3.1011 - val_accuracy: 0.5643\n",
            "Epoch 58/100\n",
            "191/191 [==============================] - 4s 20ms/step - loss: 0.0059 - accuracy: 0.9977 - val_loss: 3.1108 - val_accuracy: 0.5629\n",
            "Epoch 59/100\n",
            "191/191 [==============================] - 4s 20ms/step - loss: 0.0059 - accuracy: 0.9977 - val_loss: 3.0664 - val_accuracy: 0.5640\n",
            "Epoch 60/100\n",
            "191/191 [==============================] - 4s 20ms/step - loss: 0.0055 - accuracy: 0.9979 - val_loss: 3.0991 - val_accuracy: 0.5592\n",
            "Epoch 61/100\n",
            "191/191 [==============================] - 4s 20ms/step - loss: 0.0055 - accuracy: 0.9977 - val_loss: 3.1077 - val_accuracy: 0.5583\n",
            "Epoch 62/100\n",
            "191/191 [==============================] - 4s 20ms/step - loss: 0.0060 - accuracy: 0.9979 - val_loss: 3.1241 - val_accuracy: 0.5600\n",
            "Epoch 63/100\n",
            "191/191 [==============================] - 4s 20ms/step - loss: 0.0051 - accuracy: 0.9981 - val_loss: 3.0867 - val_accuracy: 0.5628\n",
            "Epoch 64/100\n",
            "191/191 [==============================] - 4s 20ms/step - loss: 0.0056 - accuracy: 0.9978 - val_loss: 3.1130 - val_accuracy: 0.5622\n",
            "Epoch 65/100\n",
            "191/191 [==============================] - 4s 20ms/step - loss: 0.0052 - accuracy: 0.9981 - val_loss: 3.0858 - val_accuracy: 0.5580\n",
            "Epoch 66/100\n",
            "191/191 [==============================] - 4s 20ms/step - loss: 0.0055 - accuracy: 0.9978 - val_loss: 3.1717 - val_accuracy: 0.5636\n",
            "Epoch 67/100\n",
            "191/191 [==============================] - 4s 20ms/step - loss: 0.0053 - accuracy: 0.9979 - val_loss: 3.2036 - val_accuracy: 0.5658\n",
            "Epoch 68/100\n",
            "191/191 [==============================] - 4s 20ms/step - loss: 0.0048 - accuracy: 0.9980 - val_loss: 3.2064 - val_accuracy: 0.5629\n",
            "Epoch 69/100\n",
            "191/191 [==============================] - 4s 23ms/step - loss: 0.0050 - accuracy: 0.9980 - val_loss: 3.0861 - val_accuracy: 0.5623\n",
            "Epoch 70/100\n",
            "191/191 [==============================] - 4s 20ms/step - loss: 0.0051 - accuracy: 0.9979 - val_loss: 3.1469 - val_accuracy: 0.5638\n",
            "Epoch 71/100\n",
            "191/191 [==============================] - 4s 20ms/step - loss: 0.0050 - accuracy: 0.9978 - val_loss: 3.1813 - val_accuracy: 0.5626\n",
            "Epoch 72/100\n",
            "191/191 [==============================] - 4s 20ms/step - loss: 0.0049 - accuracy: 0.9981 - val_loss: 3.1530 - val_accuracy: 0.5620\n",
            "Epoch 73/100\n",
            "191/191 [==============================] - 4s 20ms/step - loss: 0.0052 - accuracy: 0.9979 - val_loss: 3.1177 - val_accuracy: 0.5620\n",
            "Epoch 74/100\n",
            "191/191 [==============================] - 4s 20ms/step - loss: 0.0048 - accuracy: 0.9981 - val_loss: 3.1701 - val_accuracy: 0.5581\n",
            "Epoch 75/100\n",
            "191/191 [==============================] - 4s 20ms/step - loss: 0.0049 - accuracy: 0.9979 - val_loss: 3.0581 - val_accuracy: 0.5619\n",
            "Epoch 76/100\n",
            "191/191 [==============================] - 4s 20ms/step - loss: 0.0049 - accuracy: 0.9979 - val_loss: 3.1489 - val_accuracy: 0.5601\n",
            "Epoch 77/100\n",
            "191/191 [==============================] - 4s 20ms/step - loss: 0.0048 - accuracy: 0.9980 - val_loss: 3.0946 - val_accuracy: 0.5595\n",
            "Epoch 78/100\n",
            "191/191 [==============================] - 4s 20ms/step - loss: 0.0049 - accuracy: 0.9979 - val_loss: 3.1090 - val_accuracy: 0.5624\n",
            "Epoch 79/100\n",
            "191/191 [==============================] - 4s 20ms/step - loss: 0.0050 - accuracy: 0.9978 - val_loss: 3.1301 - val_accuracy: 0.5609\n",
            "Epoch 80/100\n",
            "191/191 [==============================] - 4s 20ms/step - loss: 0.0047 - accuracy: 0.9980 - val_loss: 3.1902 - val_accuracy: 0.5628\n",
            "Epoch 81/100\n",
            "191/191 [==============================] - 4s 20ms/step - loss: 0.0048 - accuracy: 0.9979 - val_loss: 3.1216 - val_accuracy: 0.5627\n",
            "Epoch 82/100\n",
            "191/191 [==============================] - 4s 20ms/step - loss: 0.0043 - accuracy: 0.9982 - val_loss: 3.1236 - val_accuracy: 0.5608\n",
            "Epoch 83/100\n",
            "191/191 [==============================] - 4s 20ms/step - loss: 0.0048 - accuracy: 0.9979 - val_loss: 3.1380 - val_accuracy: 0.5585\n",
            "Epoch 84/100\n",
            "191/191 [==============================] - 4s 22ms/step - loss: 0.0045 - accuracy: 0.9979 - val_loss: 3.1805 - val_accuracy: 0.5603\n",
            "Epoch 85/100\n",
            "191/191 [==============================] - 4s 22ms/step - loss: 0.0048 - accuracy: 0.9978 - val_loss: 3.1875 - val_accuracy: 0.5557\n",
            "Epoch 86/100\n",
            "191/191 [==============================] - 4s 20ms/step - loss: 0.0048 - accuracy: 0.9979 - val_loss: 3.2231 - val_accuracy: 0.5633\n",
            "Epoch 87/100\n",
            "191/191 [==============================] - 4s 20ms/step - loss: 0.0044 - accuracy: 0.9981 - val_loss: 3.1276 - val_accuracy: 0.5627\n",
            "Epoch 88/100\n",
            "191/191 [==============================] - 4s 20ms/step - loss: 0.0047 - accuracy: 0.9978 - val_loss: 3.1141 - val_accuracy: 0.5630\n",
            "Epoch 89/100\n",
            "191/191 [==============================] - 4s 20ms/step - loss: 0.0046 - accuracy: 0.9980 - val_loss: 3.1385 - val_accuracy: 0.5645\n",
            "Epoch 90/100\n",
            "191/191 [==============================] - 4s 20ms/step - loss: 0.0044 - accuracy: 0.9979 - val_loss: 3.1903 - val_accuracy: 0.5622\n",
            "Epoch 91/100\n",
            "191/191 [==============================] - 4s 20ms/step - loss: 0.0044 - accuracy: 0.9979 - val_loss: 3.1661 - val_accuracy: 0.5620\n",
            "Epoch 92/100\n",
            "191/191 [==============================] - 4s 20ms/step - loss: 0.0046 - accuracy: 0.9979 - val_loss: 3.1134 - val_accuracy: 0.5629\n",
            "Epoch 93/100\n",
            "191/191 [==============================] - 4s 20ms/step - loss: 0.0047 - accuracy: 0.9979 - val_loss: 3.1512 - val_accuracy: 0.5620\n",
            "Epoch 94/100\n",
            "191/191 [==============================] - 4s 20ms/step - loss: 0.0046 - accuracy: 0.9978 - val_loss: 3.1816 - val_accuracy: 0.5622\n",
            "Epoch 95/100\n",
            "191/191 [==============================] - 4s 20ms/step - loss: 0.0044 - accuracy: 0.9980 - val_loss: 3.1693 - val_accuracy: 0.5640\n",
            "Epoch 96/100\n",
            "191/191 [==============================] - 4s 20ms/step - loss: 0.0044 - accuracy: 0.9977 - val_loss: 3.2098 - val_accuracy: 0.5649\n",
            "Epoch 97/100\n",
            "191/191 [==============================] - 4s 20ms/step - loss: 0.0044 - accuracy: 0.9979 - val_loss: 3.2022 - val_accuracy: 0.5625\n",
            "Epoch 98/100\n",
            "191/191 [==============================] - 4s 20ms/step - loss: 0.0042 - accuracy: 0.9981 - val_loss: 3.1957 - val_accuracy: 0.5605\n",
            "Epoch 99/100\n",
            "191/191 [==============================] - 4s 20ms/step - loss: 0.0042 - accuracy: 0.9980 - val_loss: 3.2328 - val_accuracy: 0.5622\n",
            "Epoch 100/100\n",
            "191/191 [==============================] - 4s 23ms/step - loss: 0.0043 - accuracy: 0.9980 - val_loss: 3.2077 - val_accuracy: 0.5615\n"
          ]
        }
      ]
    },
    {
      "cell_type": "code",
      "source": [
        "plt.plot(history.history['accuracy'])\n",
        "plt.plot(history.history['val_accuracy'])\n",
        "plt.title('Model Accuracy')\n",
        "plt.xlabel('epoch')\n",
        "plt.legend(['Train','Valition'], loc='upper left')\n",
        "plt.show()"
      ],
      "metadata": {
        "colab": {
          "base_uri": "https://localhost:8080/",
          "height": 295
        },
        "id": "nUn_SPpzXFO1",
        "outputId": "a575ca7a-ece3-49e9-8850-de704dd9cc44"
      },
      "execution_count": null,
      "outputs": [
        {
          "output_type": "display_data",
          "data": {
            "text/plain": [
              "<Figure size 432x288 with 1 Axes>"
            ],
            "image/png": "[encoded data removed]"
          },
          "metadata": {
            "needs_background": "light"
          }
        }
      ]
    },
    {
      "cell_type": "code",
      "source": [
        "model.save('/content/drive/MyDrive/emotion/emotion_model.h5')"
      ],
      "metadata": {
        "id": "mFUm06wDw4m2"
      },
      "execution_count": null,
      "outputs": []
    }
  ]
}