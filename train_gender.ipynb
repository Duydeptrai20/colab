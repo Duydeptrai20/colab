{
  "nbformat": 4,
  "nbformat_minor": 0,
  "metadata": {
    "colab": {
      "name": "train gender",
      "provenance": [],
      "collapsed_sections": []
    },
    "kernelspec": {
      "name": "python3",
      "display_name": "Python 3"
    },
    "language_info": {
      "name": "python"
    }
  },
  "cells": [
    {
      "cell_type": "code",
      "execution_count": null,
      "metadata": {
        "colab": {
          "base_uri": "https://localhost:8080/"
        },
        "id": "S2pDsIsz5Ape",
        "outputId": "0e62af3f-43a1-4065-ff54-448ae32f84fa"
      },
      "outputs": [
        {
          "output_type": "stream",
          "name": "stdout",
          "text": [
            "Drive already mounted at /content/drive; to attempt to forcibly remount, call drive.mount(\"/content/drive\", force_remount=True).\n"
          ]
        }
      ],
      "source": [
        "from google.colab import drive \n",
        "drive.mount('/content/drive')"
      ]
    },
    {
      "cell_type": "code",
      "source": [
        "from keras import datasets, Sequential\n",
        "from keras.layers import Conv2D, Dense, MaxPooling2D, Flatten\n",
        "from keras.preprocessing import  image\n",
        "from keras.preprocessing.image import load_img, img_to_array,array_to_img,ImageDataGenerator\n",
        "import matplotlib.pyplot as plt\n",
        "import seaborn as sns\n",
        "import numpy as np\n",
        "from numpy import asarray\n",
        "from numpy import save\n",
        "import keras\n",
        "import os\n",
        "from os import listdir\n",
        "import cv2 as cv\n",
        "import tensorflow as tf\n",
        "from tensorflow.keras.optimizers import Adam, SGD\n",
        "from sklearn.model_selection import train_test_split"
      ],
      "metadata": {
        "id": "7336D7T05Qw_"
      },
      "execution_count": null,
      "outputs": []
    },
    {
      "cell_type": "code",
      "source": [
        "folder = '/content/drive/MyDrive/gender/man' \n",
        "folder1='/content/drive/MyDrive/gender/woman'\n",
        "\n",
        "folders=[folder,folder1]\n",
        "photos, labels = list(), list()\n",
        "for i in range (2):\n",
        "  for file in listdir(folders[i]):\n",
        "    output=i\n",
        "\n",
        "    photo = load_img(folders[i]+'/'+file, target_size=(100,100))\n",
        "    photo = img_to_array(photo)\n",
        "    photos.append(photo)\n",
        "    labels.append(output)\n",
        "photos = asarray(photos)\n",
        "labels = asarray(labels)\n",
        "print(photos.shape, labels.shape)\n",
        "save('/content/drive/MyDrive/gender/gender_photos.npy',photos)\n",
        "save('/content/drive/MyDrive/gender/gender_labels.npy',labels)"
      ],
      "metadata": {
        "colab": {
          "base_uri": "https://localhost:8080/"
        },
        "id": "t9KqtKRF5Tij",
        "outputId": "51c67b21-433f-43ec-9d98-d4b9ab6e731c"
      },
      "execution_count": null,
      "outputs": [
        {
          "output_type": "stream",
          "name": "stdout",
          "text": [
            "(2310, 100, 100, 3) (2310,)\n"
          ]
        }
      ]
    },
    {
      "cell_type": "code",
      "source": [
        "x_train, x_test, y_train, y_test = train_test_split(photos, labels, test_size=0.3, random_state=2)"
      ],
      "metadata": {
        "id": "BlF7pz8e5bB6"
      },
      "execution_count": null,
      "outputs": []
    },
    {
      "cell_type": "code",
      "source": [
        "x_train /= 255\n",
        "x_test /= 255\n",
        "y_train = keras.utils.np_utils.to_categorical(y_train, 10)\n",
        "y_test = keras.utils.np_utils.to_categorical(y_test, 10)"
      ],
      "metadata": {
        "id": "wGJjSl7-8SXq"
      },
      "execution_count": null,
      "outputs": []
    },
    {
      "cell_type": "code",
      "source": [
        "#tạo model\n",
        "model = Sequential()\n",
        "model.add(Conv2D(32,(3,3), activation = 'relu', kernel_initializer='he_uniform',padding='same',input_shape=(100,100,3)))\n",
        "model.add(MaxPooling2D((2,2)))\n",
        "\n",
        "model.add(Conv2D(64,(3,3), activation = 'relu', kernel_initializer='he_uniform',padding='same'))\n",
        "model.add(MaxPooling2D((2,2)))\n",
        "\n",
        "model.add(Conv2D(128,(3,3), activation = 'relu', kernel_initializer='he_uniform',padding='same'))\n",
        "model.add(MaxPooling2D((2,2)))\n",
        "\n",
        "model.add(Conv2D(512,(3,3), activation = 'relu', kernel_initializer='he_uniform',padding='same'))\n",
        "model.add(MaxPooling2D((2,2)))\n"
      ],
      "metadata": {
        "id": "JKKZzivq8Xlm"
      },
      "execution_count": null,
      "outputs": []
    },
    {
      "cell_type": "code",
      "source": [
        "model.add(Flatten())\n",
        "model.add(Dense(512, activation='relu', kernel_initializer='he_uniform'))  #Dense la full connected \n",
        "model.add(Dense(10, activation='Softmax'))"
      ],
      "metadata": {
        "id": "1GRvGwfw8ZQY"
      },
      "execution_count": null,
      "outputs": []
    },
    {
      "cell_type": "code",
      "source": [
        "opt = SGD(lr=0.01, momentum=0.9)\n",
        "model.compile(optimizer=opt,loss='categorical_crossentropy',  metrics=['accuracy'])"
      ],
      "metadata": {
        "colab": {
          "base_uri": "https://localhost:8080/"
        },
        "id": "rETDYcFR8bAw",
        "outputId": "4c7f6142-9ecf-4e26-f430-44d0fdccd85e"
      },
      "execution_count": null,
      "outputs": [
        {
          "output_type": "stream",
          "name": "stderr",
          "text": [
            "/usr/local/lib/python3.7/dist-packages/keras/optimizer_v2/gradient_descent.py:102: UserWarning: The `lr` argument is deprecated, use `learning_rate` instead.\n",
            "  super(SGD, self).__init__(name, **kwargs)\n"
          ]
        }
      ]
    },
    {
      "cell_type": "code",
      "source": [
        "history = model.fit(x_train, y_train, batch_size=128, epochs=100, verbose=1,validation_data=(x_test, y_test))"
      ],
      "metadata": {
        "colab": {
          "base_uri": "https://localhost:8080/"
        },
        "id": "vrlyjvtN8p5I",
        "outputId": "47bfe276-c113-4115-d42b-662ac3a94ca6"
      },
      "execution_count": null,
      "outputs": [
        {
          "output_type": "stream",
          "name": "stdout",
          "text": [
            "Epoch 1/100\n",
            "13/13 [==============================] - 26s 2s/step - loss: 5.2421 - accuracy: 0.4842 - val_loss: 0.6443 - val_accuracy: 0.7316\n",
            "Epoch 2/100\n",
            "13/13 [==============================] - 24s 2s/step - loss: 1.1869 - accuracy: 0.6030 - val_loss: 0.6477 - val_accuracy: 0.6566\n",
            "Epoch 3/100\n",
            "13/13 [==============================] - 24s 2s/step - loss: 0.6758 - accuracy: 0.6710 - val_loss: 0.6152 - val_accuracy: 0.6768\n",
            "Epoch 4/100\n",
            "13/13 [==============================] - 24s 2s/step - loss: 0.5284 - accuracy: 0.7291 - val_loss: 0.5008 - val_accuracy: 0.7590\n",
            "Epoch 5/100\n",
            "13/13 [==============================] - 24s 2s/step - loss: 0.4279 - accuracy: 0.8089 - val_loss: 0.4220 - val_accuracy: 0.8124\n",
            "Epoch 6/100\n",
            "13/13 [==============================] - 27s 2s/step - loss: 0.3823 - accuracy: 0.8139 - val_loss: 0.4026 - val_accuracy: 0.8211\n",
            "Epoch 7/100\n",
            "13/13 [==============================] - 25s 2s/step - loss: 0.3619 - accuracy: 0.8349 - val_loss: 0.4748 - val_accuracy: 0.7720\n",
            "Epoch 8/100\n",
            "13/13 [==============================] - 25s 2s/step - loss: 0.2970 - accuracy: 0.8794 - val_loss: 0.3092 - val_accuracy: 0.8629\n",
            "Epoch 9/100\n",
            "13/13 [==============================] - 25s 2s/step - loss: 0.2340 - accuracy: 0.8967 - val_loss: 0.2909 - val_accuracy: 0.8773\n",
            "Epoch 10/100\n",
            "13/13 [==============================] - 25s 2s/step - loss: 0.1965 - accuracy: 0.9190 - val_loss: 0.2737 - val_accuracy: 0.8831\n",
            "Epoch 11/100\n",
            "13/13 [==============================] - 25s 2s/step - loss: 0.2250 - accuracy: 0.9122 - val_loss: 0.2667 - val_accuracy: 0.8932\n",
            "Epoch 12/100\n",
            "13/13 [==============================] - 25s 2s/step - loss: 0.1492 - accuracy: 0.9443 - val_loss: 0.2827 - val_accuracy: 0.8874\n",
            "Epoch 13/100\n",
            "13/13 [==============================] - 25s 2s/step - loss: 0.1358 - accuracy: 0.9462 - val_loss: 0.3207 - val_accuracy: 0.8730\n",
            "Epoch 14/100\n",
            "13/13 [==============================] - 25s 2s/step - loss: 0.1537 - accuracy: 0.9375 - val_loss: 0.3053 - val_accuracy: 0.8716\n",
            "Epoch 15/100\n",
            "13/13 [==============================] - 25s 2s/step - loss: 0.1439 - accuracy: 0.9462 - val_loss: 0.2651 - val_accuracy: 0.8903\n",
            "Epoch 16/100\n",
            "13/13 [==============================] - 25s 2s/step - loss: 0.0986 - accuracy: 0.9641 - val_loss: 0.2806 - val_accuracy: 0.9004\n",
            "Epoch 17/100\n",
            "13/13 [==============================] - 26s 2s/step - loss: 0.1091 - accuracy: 0.9610 - val_loss: 0.2667 - val_accuracy: 0.8947\n",
            "Epoch 18/100\n",
            "13/13 [==============================] - 25s 2s/step - loss: 0.0860 - accuracy: 0.9697 - val_loss: 0.3040 - val_accuracy: 0.8918\n",
            "Epoch 19/100\n",
            "13/13 [==============================] - 25s 2s/step - loss: 0.0680 - accuracy: 0.9734 - val_loss: 0.2977 - val_accuracy: 0.9004\n",
            "Epoch 20/100\n",
            "13/13 [==============================] - 25s 2s/step - loss: 0.0623 - accuracy: 0.9771 - val_loss: 0.3138 - val_accuracy: 0.8947\n",
            "Epoch 21/100\n",
            "13/13 [==============================] - 25s 2s/step - loss: 0.0605 - accuracy: 0.9814 - val_loss: 0.3121 - val_accuracy: 0.9048\n",
            "Epoch 22/100\n",
            "13/13 [==============================] - 26s 2s/step - loss: 0.0535 - accuracy: 0.9790 - val_loss: 0.3245 - val_accuracy: 0.9062\n",
            "Epoch 23/100\n",
            "13/13 [==============================] - 25s 2s/step - loss: 0.0580 - accuracy: 0.9746 - val_loss: 0.3947 - val_accuracy: 0.8918\n",
            "Epoch 24/100\n",
            "13/13 [==============================] - 24s 2s/step - loss: 0.0635 - accuracy: 0.9777 - val_loss: 0.3413 - val_accuracy: 0.9004\n",
            "Epoch 25/100\n",
            "13/13 [==============================] - 25s 2s/step - loss: 0.0355 - accuracy: 0.9864 - val_loss: 0.4013 - val_accuracy: 0.8846\n",
            "Epoch 26/100\n",
            "13/13 [==============================] - 24s 2s/step - loss: 0.0650 - accuracy: 0.9728 - val_loss: 0.3581 - val_accuracy: 0.8990\n",
            "Epoch 27/100\n",
            "13/13 [==============================] - 25s 2s/step - loss: 0.0241 - accuracy: 0.9944 - val_loss: 0.3632 - val_accuracy: 0.9004\n",
            "Epoch 28/100\n",
            "13/13 [==============================] - 27s 2s/step - loss: 0.0183 - accuracy: 0.9963 - val_loss: 0.3762 - val_accuracy: 0.9033\n",
            "Epoch 29/100\n",
            "13/13 [==============================] - 25s 2s/step - loss: 0.0148 - accuracy: 0.9975 - val_loss: 0.3785 - val_accuracy: 0.9048\n",
            "Epoch 30/100\n",
            "13/13 [==============================] - 24s 2s/step - loss: 0.0107 - accuracy: 0.9994 - val_loss: 0.4082 - val_accuracy: 0.8961\n",
            "Epoch 31/100\n",
            "13/13 [==============================] - 24s 2s/step - loss: 0.0107 - accuracy: 0.9994 - val_loss: 0.4659 - val_accuracy: 0.8932\n",
            "Epoch 32/100\n",
            "13/13 [==============================] - 25s 2s/step - loss: 0.0172 - accuracy: 0.9951 - val_loss: 0.4726 - val_accuracy: 0.8903\n",
            "Epoch 33/100\n",
            "13/13 [==============================] - 25s 2s/step - loss: 0.0229 - accuracy: 0.9944 - val_loss: 0.4262 - val_accuracy: 0.8990\n",
            "Epoch 34/100\n",
            "13/13 [==============================] - 24s 2s/step - loss: 0.0136 - accuracy: 0.9975 - val_loss: 0.4195 - val_accuracy: 0.8961\n",
            "Epoch 35/100\n",
            "13/13 [==============================] - 24s 2s/step - loss: 0.0125 - accuracy: 0.9975 - val_loss: 0.5653 - val_accuracy: 0.8889\n",
            "Epoch 36/100\n",
            "13/13 [==============================] - 25s 2s/step - loss: 0.0760 - accuracy: 0.9629 - val_loss: 0.4910 - val_accuracy: 0.8947\n",
            "Epoch 37/100\n",
            "13/13 [==============================] - 25s 2s/step - loss: 0.4615 - accuracy: 0.8677 - val_loss: 0.6089 - val_accuracy: 0.8023\n",
            "Epoch 38/100\n",
            "13/13 [==============================] - 24s 2s/step - loss: 0.2460 - accuracy: 0.9029 - val_loss: 0.3442 - val_accuracy: 0.8615\n",
            "Epoch 39/100\n",
            "13/13 [==============================] - 27s 2s/step - loss: 0.1369 - accuracy: 0.9431 - val_loss: 0.3548 - val_accuracy: 0.8644\n",
            "Epoch 40/100\n",
            "13/13 [==============================] - 24s 2s/step - loss: 0.0893 - accuracy: 0.9672 - val_loss: 0.3347 - val_accuracy: 0.8773\n",
            "Epoch 41/100\n",
            "13/13 [==============================] - 24s 2s/step - loss: 0.0785 - accuracy: 0.9678 - val_loss: 0.3416 - val_accuracy: 0.8831\n",
            "Epoch 42/100\n",
            "13/13 [==============================] - 25s 2s/step - loss: 0.0707 - accuracy: 0.9728 - val_loss: 0.4232 - val_accuracy: 0.8571\n",
            "Epoch 43/100\n",
            "13/13 [==============================] - 25s 2s/step - loss: 0.0422 - accuracy: 0.9895 - val_loss: 0.3646 - val_accuracy: 0.8874\n",
            "Epoch 44/100\n",
            "13/13 [==============================] - 25s 2s/step - loss: 0.0332 - accuracy: 0.9926 - val_loss: 0.3801 - val_accuracy: 0.8918\n",
            "Epoch 45/100\n",
            "13/13 [==============================] - 25s 2s/step - loss: 0.0314 - accuracy: 0.9926 - val_loss: 0.3772 - val_accuracy: 0.8918\n",
            "Epoch 46/100\n",
            "13/13 [==============================] - 25s 2s/step - loss: 0.0382 - accuracy: 0.9889 - val_loss: 0.3799 - val_accuracy: 0.8918\n",
            "Epoch 47/100\n",
            "13/13 [==============================] - 25s 2s/step - loss: 0.0286 - accuracy: 0.9920 - val_loss: 0.4232 - val_accuracy: 0.8846\n",
            "Epoch 48/100\n",
            "13/13 [==============================] - 25s 2s/step - loss: 0.0153 - accuracy: 0.9975 - val_loss: 0.4156 - val_accuracy: 0.8961\n",
            "Epoch 49/100\n",
            "13/13 [==============================] - 27s 2s/step - loss: 0.0134 - accuracy: 0.9988 - val_loss: 0.4311 - val_accuracy: 0.8932\n",
            "Epoch 50/100\n",
            "13/13 [==============================] - 25s 2s/step - loss: 0.0095 - accuracy: 1.0000 - val_loss: 0.4540 - val_accuracy: 0.8990\n",
            "Epoch 51/100\n",
            "13/13 [==============================] - 25s 2s/step - loss: 0.0096 - accuracy: 1.0000 - val_loss: 0.4663 - val_accuracy: 0.8975\n",
            "Epoch 52/100\n",
            "13/13 [==============================] - 25s 2s/step - loss: 0.0089 - accuracy: 0.9994 - val_loss: 0.4701 - val_accuracy: 0.8961\n",
            "Epoch 53/100\n",
            "13/13 [==============================] - 25s 2s/step - loss: 0.0063 - accuracy: 1.0000 - val_loss: 0.5057 - val_accuracy: 0.8961\n",
            "Epoch 54/100\n",
            "13/13 [==============================] - 25s 2s/step - loss: 0.0055 - accuracy: 1.0000 - val_loss: 0.4968 - val_accuracy: 0.8975\n",
            "Epoch 55/100\n",
            "13/13 [==============================] - 25s 2s/step - loss: 0.0045 - accuracy: 1.0000 - val_loss: 0.5181 - val_accuracy: 0.8990\n",
            "Epoch 56/100\n",
            "13/13 [==============================] - 25s 2s/step - loss: 0.0040 - accuracy: 1.0000 - val_loss: 0.5173 - val_accuracy: 0.8990\n",
            "Epoch 57/100\n",
            "13/13 [==============================] - 25s 2s/step - loss: 0.0040 - accuracy: 1.0000 - val_loss: 0.5374 - val_accuracy: 0.8975\n",
            "Epoch 58/100\n",
            "13/13 [==============================] - 25s 2s/step - loss: 0.0034 - accuracy: 1.0000 - val_loss: 0.5401 - val_accuracy: 0.8990\n",
            "Epoch 59/100\n",
            "13/13 [==============================] - 25s 2s/step - loss: 0.0036 - accuracy: 1.0000 - val_loss: 0.5384 - val_accuracy: 0.8918\n",
            "Epoch 60/100\n",
            "13/13 [==============================] - 26s 2s/step - loss: 0.0035 - accuracy: 1.0000 - val_loss: 0.5380 - val_accuracy: 0.8903\n",
            "Epoch 61/100\n",
            "13/13 [==============================] - 25s 2s/step - loss: 0.0033 - accuracy: 1.0000 - val_loss: 0.5643 - val_accuracy: 0.8975\n",
            "Epoch 62/100\n",
            "13/13 [==============================] - 25s 2s/step - loss: 0.0031 - accuracy: 1.0000 - val_loss: 0.6156 - val_accuracy: 0.8889\n",
            "Epoch 63/100\n",
            "13/13 [==============================] - 24s 2s/step - loss: 0.0030 - accuracy: 1.0000 - val_loss: 0.5970 - val_accuracy: 0.8947\n",
            "Epoch 64/100\n",
            "13/13 [==============================] - 24s 2s/step - loss: 0.0022 - accuracy: 1.0000 - val_loss: 0.6164 - val_accuracy: 0.8918\n",
            "Epoch 65/100\n",
            "13/13 [==============================] - 25s 2s/step - loss: 0.0024 - accuracy: 1.0000 - val_loss: 0.6061 - val_accuracy: 0.8947\n",
            "Epoch 66/100\n",
            "13/13 [==============================] - 24s 2s/step - loss: 0.0020 - accuracy: 1.0000 - val_loss: 0.6012 - val_accuracy: 0.8947\n",
            "Epoch 67/100\n",
            "13/13 [==============================] - 25s 2s/step - loss: 0.0019 - accuracy: 1.0000 - val_loss: 0.5886 - val_accuracy: 0.9019\n",
            "Epoch 68/100\n",
            "13/13 [==============================] - 25s 2s/step - loss: 0.0017 - accuracy: 1.0000 - val_loss: 0.5920 - val_accuracy: 0.9019\n",
            "Epoch 69/100\n",
            "13/13 [==============================] - 25s 2s/step - loss: 0.0015 - accuracy: 1.0000 - val_loss: 0.5989 - val_accuracy: 0.9004\n",
            "Epoch 70/100\n",
            "13/13 [==============================] - 24s 2s/step - loss: 0.0014 - accuracy: 1.0000 - val_loss: 0.6086 - val_accuracy: 0.8990\n",
            "Epoch 71/100\n",
            "13/13 [==============================] - 27s 2s/step - loss: 0.0014 - accuracy: 1.0000 - val_loss: 0.6167 - val_accuracy: 0.8975\n",
            "Epoch 72/100\n",
            "13/13 [==============================] - 25s 2s/step - loss: 0.0013 - accuracy: 1.0000 - val_loss: 0.6200 - val_accuracy: 0.8990\n",
            "Epoch 73/100\n",
            "13/13 [==============================] - 25s 2s/step - loss: 0.0013 - accuracy: 1.0000 - val_loss: 0.6239 - val_accuracy: 0.8990\n",
            "Epoch 74/100\n",
            "13/13 [==============================] - 24s 2s/step - loss: 0.0012 - accuracy: 1.0000 - val_loss: 0.6232 - val_accuracy: 0.8990\n",
            "Epoch 75/100\n",
            "13/13 [==============================] - 25s 2s/step - loss: 0.0012 - accuracy: 1.0000 - val_loss: 0.6219 - val_accuracy: 0.9033\n",
            "Epoch 76/100\n",
            "13/13 [==============================] - 25s 2s/step - loss: 0.0012 - accuracy: 1.0000 - val_loss: 0.6284 - val_accuracy: 0.8990\n",
            "Epoch 77/100\n",
            "13/13 [==============================] - 25s 2s/step - loss: 0.0011 - accuracy: 1.0000 - val_loss: 0.6426 - val_accuracy: 0.8990\n",
            "Epoch 78/100\n",
            "13/13 [==============================] - 25s 2s/step - loss: 0.0011 - accuracy: 1.0000 - val_loss: 0.6508 - val_accuracy: 0.8975\n",
            "Epoch 79/100\n",
            "13/13 [==============================] - 25s 2s/step - loss: 9.6968e-04 - accuracy: 1.0000 - val_loss: 0.6399 - val_accuracy: 0.9019\n",
            "Epoch 80/100\n",
            "13/13 [==============================] - 25s 2s/step - loss: 9.2737e-04 - accuracy: 1.0000 - val_loss: 0.6513 - val_accuracy: 0.8990\n",
            "Epoch 81/100\n",
            "13/13 [==============================] - 25s 2s/step - loss: 9.1408e-04 - accuracy: 1.0000 - val_loss: 0.6496 - val_accuracy: 0.8990\n",
            "Epoch 82/100\n",
            "13/13 [==============================] - 27s 2s/step - loss: 8.7477e-04 - accuracy: 1.0000 - val_loss: 0.6464 - val_accuracy: 0.9019\n",
            "Epoch 83/100\n",
            "13/13 [==============================] - 25s 2s/step - loss: 8.4058e-04 - accuracy: 1.0000 - val_loss: 0.6575 - val_accuracy: 0.8990\n",
            "Epoch 84/100\n",
            "13/13 [==============================] - 25s 2s/step - loss: 8.2474e-04 - accuracy: 1.0000 - val_loss: 0.6594 - val_accuracy: 0.8990\n",
            "Epoch 85/100\n",
            "13/13 [==============================] - 25s 2s/step - loss: 8.0729e-04 - accuracy: 1.0000 - val_loss: 0.6588 - val_accuracy: 0.8990\n",
            "Epoch 86/100\n",
            "13/13 [==============================] - 25s 2s/step - loss: 7.8491e-04 - accuracy: 1.0000 - val_loss: 0.6517 - val_accuracy: 0.8990\n",
            "Epoch 87/100\n",
            "13/13 [==============================] - 25s 2s/step - loss: 8.0204e-04 - accuracy: 1.0000 - val_loss: 0.6670 - val_accuracy: 0.8975\n",
            "Epoch 88/100\n",
            "13/13 [==============================] - 25s 2s/step - loss: 7.2329e-04 - accuracy: 1.0000 - val_loss: 0.6662 - val_accuracy: 0.8990\n",
            "Epoch 89/100\n",
            "13/13 [==============================] - 25s 2s/step - loss: 7.1479e-04 - accuracy: 1.0000 - val_loss: 0.6723 - val_accuracy: 0.8990\n",
            "Epoch 90/100\n",
            "13/13 [==============================] - 25s 2s/step - loss: 6.8190e-04 - accuracy: 1.0000 - val_loss: 0.6682 - val_accuracy: 0.9033\n",
            "Epoch 91/100\n",
            "13/13 [==============================] - 25s 2s/step - loss: 6.6859e-04 - accuracy: 1.0000 - val_loss: 0.6722 - val_accuracy: 0.9019\n",
            "Epoch 92/100\n",
            "13/13 [==============================] - 25s 2s/step - loss: 6.4827e-04 - accuracy: 1.0000 - val_loss: 0.6752 - val_accuracy: 0.9019\n",
            "Epoch 93/100\n",
            "13/13 [==============================] - 27s 2s/step - loss: 6.2713e-04 - accuracy: 1.0000 - val_loss: 0.6771 - val_accuracy: 0.9019\n",
            "Epoch 94/100\n",
            "13/13 [==============================] - 25s 2s/step - loss: 6.2155e-04 - accuracy: 1.0000 - val_loss: 0.6776 - val_accuracy: 0.9019\n",
            "Epoch 95/100\n",
            "13/13 [==============================] - 25s 2s/step - loss: 5.9503e-04 - accuracy: 1.0000 - val_loss: 0.6810 - val_accuracy: 0.9004\n",
            "Epoch 96/100\n",
            "13/13 [==============================] - 24s 2s/step - loss: 5.8406e-04 - accuracy: 1.0000 - val_loss: 0.6850 - val_accuracy: 0.9019\n",
            "Epoch 97/100\n",
            "13/13 [==============================] - 25s 2s/step - loss: 5.7251e-04 - accuracy: 1.0000 - val_loss: 0.6837 - val_accuracy: 0.9033\n",
            "Epoch 98/100\n",
            "13/13 [==============================] - 24s 2s/step - loss: 5.6428e-04 - accuracy: 1.0000 - val_loss: 0.6889 - val_accuracy: 0.9004\n",
            "Epoch 99/100\n",
            "13/13 [==============================] - 24s 2s/step - loss: 5.4381e-04 - accuracy: 1.0000 - val_loss: 0.6889 - val_accuracy: 0.9033\n",
            "Epoch 100/100\n",
            "13/13 [==============================] - 25s 2s/step - loss: 5.3099e-04 - accuracy: 1.0000 - val_loss: 0.6968 - val_accuracy: 0.8975\n"
          ]
        }
      ]
    },
    {
      "cell_type": "code",
      "source": [
        "plt.plot(history.history['accuracy'])\n",
        "plt.plot(history.history['val_accuracy'])\n",
        "\n",
        "plt.title('Model Accuracy')\n",
        "plt.xlabel('epoch')\n",
        "plt.legend(['Train','Valition'], loc='upper left')\n",
        "plt.show()"
      ],
      "metadata": {
        "colab": {
          "base_uri": "https://localhost:8080/",
          "height": 295
        },
        "id": "dP44uKkCYFvO",
        "outputId": "2785f825-03c1-4419-cb11-9d2084a22446"
      },
      "execution_count": null,
      "outputs": [
        {
          "output_type": "display_data",
          "data": {
            "text/plain": [
              "<Figure size 432x288 with 1 Axes>"
            ],
            "image/png": "[encoded data removed]"
          },
          "metadata": {
            "needs_background": "light"
          }
        }
      ]
    },
    {
      "cell_type": "code",
      "source": [
        "model.save('/content/drive/MyDrive/gender/gender_model.h5')"
      ],
      "metadata": {
        "id": "c6FtBfiV8vGG"
      },
      "execution_count": null,
      "outputs": []
    }
  ]
}