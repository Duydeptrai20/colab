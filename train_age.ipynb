{
  "nbformat": 4,
  "nbformat_minor": 0,
  "metadata": {
    "colab": {
      "name": "train age",
      "provenance": [],
      "collapsed_sections": []
    },
    "kernelspec": {
      "name": "python3",
      "display_name": "Python 3"
    },
    "language_info": {
      "name": "python"
    },
    "accelerator": "GPU"
  },
  "cells": [
    {
      "cell_type": "code",
      "execution_count": null,
      "metadata": {
        "colab": {
          "base_uri": "https://localhost:8080/"
        },
        "id": "NXk6UQRqPplY",
        "outputId": "d5bd7b86-5c34-4951-93f1-2de08615509e"
      },
      "outputs": [
        {
          "output_type": "stream",
          "name": "stdout",
          "text": [
            "Mounted at /content/drive\n"
          ]
        }
      ],
      "source": [
        "from google.colab import drive \n",
        "drive.mount('/content/drive')"
      ]
    },
    {
      "cell_type": "code",
      "source": [
        "from keras import datasets, Sequential\n",
        "from keras.layers import Conv2D, Dense, MaxPooling2D, Flatten\n",
        "from keras.preprocessing import  image\n",
        "from keras.preprocessing.image import load_img, img_to_array,array_to_img,ImageDataGenerator\n",
        "import matplotlib.pyplot as plt\n",
        "import seaborn as sns\n",
        "import numpy as np\n",
        "from numpy import asarray\n",
        "from numpy import save\n",
        "import keras\n",
        "import os\n",
        "from os import listdir\n",
        "import cv2 as cv\n",
        "import tensorflow as tf\n",
        "from tensorflow.keras.optimizers import Adam, SGD\n",
        "from sklearn.model_selection import train_test_split"
      ],
      "metadata": {
        "id": "9vVubMUSP3oa"
      },
      "execution_count": null,
      "outputs": []
    },
    {
      "cell_type": "code",
      "source": [
        "folder  = '/content/drive/MyDrive/age/020'\n",
        "folder1 ='/content/drive/MyDrive/age/021'\n",
        "folder2 = '/content/drive/MyDrive/age/022'\n",
        "folder3 = '/content/drive/MyDrive/age/023'\n",
        "folder4 = '/content/drive/MyDrive/age/024'\n",
        "folder5 = '/content/drive/MyDrive/age/025'\n",
        "folder6 = '/content/drive/MyDrive/age/026'\n",
        "folder7 = '/content/drive/MyDrive/age/027'\n",
        "folder8 = '/content/drive/MyDrive/age/028'\n",
        "folder9 = '/content/drive/MyDrive/age/029'\n",
        "folder10 = '/content/drive/MyDrive/age/030'\n",
        "folders=[folder,folder1,folder2,folder3,folder4,folder5,folder6,folder7,folder8,folder9,folder10]\n",
        "photos, labels = list(), list()\n",
        "for i in range (11):\n",
        "  for file in listdir(folders[i]):\n",
        "    output=i\n",
        "\n",
        "    photo = load_img(folders[i]+'/'+file, target_size=(128,128))\n",
        "    photo = img_to_array(photo)\n",
        "    photos.append(photo)\n",
        "    labels.append(output)\n",
        "photos = asarray(photos)\n",
        "labels = asarray(labels)\n",
        "print(photos.shape, labels.shape)\n",
        "save('/content/drive/MyDrive/age/age_photos.npy',photos)\n",
        "save('/content/drive/MyDrive/age/age_labels.npy',labels)"
      ],
      "metadata": {
        "colab": {
          "base_uri": "https://localhost:8080/"
        },
        "id": "hpVnvJOXP8rb",
        "outputId": "6b8485fc-580a-4eb3-b750-18bf25c49b56"
      },
      "execution_count": null,
      "outputs": [
        {
          "output_type": "stream",
          "name": "stdout",
          "text": [
            "(6642, 128, 128, 3) (6642,)\n"
          ]
        }
      ]
    },
    {
      "cell_type": "code",
      "source": [
        "x_train, x_test, y_train, y_test = train_test_split(photos, labels, test_size=0.3, random_state=2)"
      ],
      "metadata": {
        "id": "qlo3nUiNSnk9"
      },
      "execution_count": null,
      "outputs": []
    },
    {
      "cell_type": "code",
      "source": [
        "x_train /= 255\n",
        "x_test /= 255\n",
        "y_train = keras.utils.np_utils.to_categorical(y_train)\n",
        "y_test = keras.utils.np_utils.to_categorical(y_test)"
      ],
      "metadata": {
        "id": "FToUTBqFSrTF"
      },
      "execution_count": null,
      "outputs": []
    },
    {
      "cell_type": "code",
      "source": [
        "#tạo model\n",
        "model = Sequential()\n",
        "model.add(Conv2D(32,(3,3), activation = 'relu', kernel_initializer='he_uniform',padding='same',input_shape=(128,128,3)))\n",
        "model.add(MaxPooling2D((2,2)))\n",
        "\n",
        "model.add(Conv2D(64,(3,3), activation = 'relu', kernel_initializer='he_uniform',padding='same'))\n",
        "model.add(MaxPooling2D((2,2)))\n",
        "\n",
        "model.add(Conv2D(128,(3,3), activation = 'relu', kernel_initializer='he_uniform',padding='same'))\n",
        "model.add(MaxPooling2D((2,2)))\n",
        "\n",
        "model.add(Conv2D(512,(3,3), activation = 'relu', kernel_initializer='he_uniform',padding='same'))\n",
        "model.add(MaxPooling2D((2,2)))"
      ],
      "metadata": {
        "id": "U0R__pqFSsuN"
      },
      "execution_count": null,
      "outputs": []
    },
    {
      "cell_type": "code",
      "source": [
        "model.add(Flatten())\n",
        "model.add(Dense(512 activation='relu', kernel_initializer='he_uniform'))  #Dense la full connected \n",
        "model.add(Dense(11, activation='Softmax')) "
      ],
      "metadata": {
        "id": "45JE48EgS05s"
      },
      "execution_count": null,
      "outputs": []
    },
    {
      "cell_type": "code",
      "source": [
        "opt = SGD(lr=0.01, momentum=0.9)\n",
        "model.compile(optimizer=opt,loss='categorical_crossentropy',  metrics=['accuracy'])"
      ],
      "metadata": {
        "colab": {
          "base_uri": "https://localhost:8080/"
        },
        "id": "Z3B6TZwNS8e_",
        "outputId": "4d47e79a-8faf-4ed4-ac18-ceb1d25943e3"
      },
      "execution_count": null,
      "outputs": [
        {
          "output_type": "stream",
          "name": "stderr",
          "text": [
            "/usr/local/lib/python3.7/dist-packages/keras/optimizer_v2/gradient_descent.py:102: UserWarning: The `lr` argument is deprecated, use `learning_rate` instead.\n",
            "  super(SGD, self).__init__(name, **kwargs)\n"
          ]
        }
      ]
    },
    {
      "cell_type": "code",
      "source": [
        "history = model.fit(x_train, y_train, batch_size=128, epochs=100, verbose=1,validation_data=(x_test, y_test))"
      ],
      "metadata": {
        "id": "TZjmEm1YS--e",
        "colab": {
          "base_uri": "https://localhost:8080/"
        },
        "outputId": "63fd5234-600d-4b49-87af-e8ddd7ae2937"
      },
      "execution_count": null,
      "outputs": [
        {
          "output_type": "stream",
          "name": "stdout",
          "text": [
            "Epoch 1/100\n",
            "37/37 [==============================] - 15s 100ms/step - loss: 2.8413 - accuracy: 0.0985 - val_loss: 2.3970 - val_accuracy: 0.0898\n",
            "Epoch 2/100\n",
            "37/37 [==============================] - 3s 71ms/step - loss: 2.3862 - accuracy: 0.1202 - val_loss: 2.3989 - val_accuracy: 0.1064\n",
            "Epoch 3/100\n",
            "37/37 [==============================] - 3s 71ms/step - loss: 2.3719 - accuracy: 0.1422 - val_loss: 2.4040 - val_accuracy: 0.1144\n",
            "Epoch 4/100\n",
            "37/37 [==============================] - 3s 71ms/step - loss: 2.3475 - accuracy: 0.1542 - val_loss: 2.4086 - val_accuracy: 0.1014\n",
            "Epoch 5/100\n",
            "37/37 [==============================] - 3s 72ms/step - loss: 2.3022 - accuracy: 0.1912 - val_loss: 2.4352 - val_accuracy: 0.1104\n",
            "Epoch 6/100\n",
            "37/37 [==============================] - 3s 72ms/step - loss: 2.2407 - accuracy: 0.2205 - val_loss: 2.4743 - val_accuracy: 0.1199\n",
            "Epoch 7/100\n",
            "37/37 [==============================] - 3s 72ms/step - loss: 2.1160 - accuracy: 0.2837 - val_loss: 2.5793 - val_accuracy: 0.0963\n",
            "Epoch 8/100\n",
            "37/37 [==============================] - 3s 71ms/step - loss: 1.9457 - accuracy: 0.3435 - val_loss: 2.6703 - val_accuracy: 0.1154\n",
            "Epoch 9/100\n",
            "37/37 [==============================] - 3s 72ms/step - loss: 1.6881 - accuracy: 0.4470 - val_loss: 3.0393 - val_accuracy: 0.0943\n",
            "Epoch 10/100\n",
            "37/37 [==============================] - 3s 71ms/step - loss: 1.4118 - accuracy: 0.5412 - val_loss: 3.0849 - val_accuracy: 0.1044\n",
            "Epoch 11/100\n",
            "37/37 [==============================] - 3s 72ms/step - loss: 1.1113 - accuracy: 0.6567 - val_loss: 3.3391 - val_accuracy: 0.1119\n",
            "Epoch 12/100\n",
            "37/37 [==============================] - 3s 72ms/step - loss: 0.7862 - accuracy: 0.7668 - val_loss: 4.0371 - val_accuracy: 0.1034\n",
            "Epoch 13/100\n",
            "37/37 [==============================] - 3s 72ms/step - loss: 0.5528 - accuracy: 0.8380 - val_loss: 4.8527 - val_accuracy: 0.0983\n",
            "Epoch 14/100\n",
            "37/37 [==============================] - 3s 71ms/step - loss: 0.3211 - accuracy: 0.9200 - val_loss: 5.1879 - val_accuracy: 0.0978\n",
            "Epoch 15/100\n",
            "37/37 [==============================] - 3s 72ms/step - loss: 0.1877 - accuracy: 0.9662 - val_loss: 6.0353 - val_accuracy: 0.1109\n",
            "Epoch 16/100\n",
            "37/37 [==============================] - 3s 73ms/step - loss: 0.1317 - accuracy: 0.9834 - val_loss: 6.2810 - val_accuracy: 0.0908\n",
            "Epoch 17/100\n",
            "37/37 [==============================] - 3s 72ms/step - loss: 0.1025 - accuracy: 0.9882 - val_loss: 6.5394 - val_accuracy: 0.1024\n",
            "Epoch 18/100\n",
            "37/37 [==============================] - 3s 72ms/step - loss: 0.0787 - accuracy: 0.9933 - val_loss: 6.5525 - val_accuracy: 0.0988\n",
            "Epoch 19/100\n",
            "37/37 [==============================] - 3s 73ms/step - loss: 0.0739 - accuracy: 0.9935 - val_loss: 6.6017 - val_accuracy: 0.0993\n",
            "Epoch 20/100\n",
            "37/37 [==============================] - 3s 72ms/step - loss: 0.0866 - accuracy: 0.9918 - val_loss: 6.6575 - val_accuracy: 0.0948\n",
            "Epoch 21/100\n",
            "37/37 [==============================] - 3s 72ms/step - loss: 0.0697 - accuracy: 0.9935 - val_loss: 6.4956 - val_accuracy: 0.0948\n",
            "Epoch 22/100\n",
            "37/37 [==============================] - 3s 72ms/step - loss: 0.0604 - accuracy: 0.9942 - val_loss: 6.7680 - val_accuracy: 0.0978\n",
            "Epoch 23/100\n",
            "37/37 [==============================] - 3s 72ms/step - loss: 0.0579 - accuracy: 0.9933 - val_loss: 6.6544 - val_accuracy: 0.1014\n",
            "Epoch 24/100\n",
            "37/37 [==============================] - 3s 72ms/step - loss: 0.0675 - accuracy: 0.9938 - val_loss: 6.2852 - val_accuracy: 0.1029\n",
            "Epoch 25/100\n",
            "37/37 [==============================] - 3s 73ms/step - loss: 0.0545 - accuracy: 0.9929 - val_loss: 6.9802 - val_accuracy: 0.1029\n",
            "Epoch 26/100\n",
            "37/37 [==============================] - 3s 77ms/step - loss: 0.0440 - accuracy: 0.9942 - val_loss: 6.6016 - val_accuracy: 0.0993\n",
            "Epoch 27/100\n",
            "37/37 [==============================] - 3s 72ms/step - loss: 0.0452 - accuracy: 0.9942 - val_loss: 6.7298 - val_accuracy: 0.0988\n",
            "Epoch 28/100\n",
            "37/37 [==============================] - 3s 72ms/step - loss: 0.0437 - accuracy: 0.9944 - val_loss: 6.5313 - val_accuracy: 0.0998\n",
            "Epoch 29/100\n",
            "37/37 [==============================] - 3s 72ms/step - loss: 0.0400 - accuracy: 0.9938 - val_loss: 6.7842 - val_accuracy: 0.1084\n",
            "Epoch 30/100\n",
            "37/37 [==============================] - 3s 72ms/step - loss: 0.0531 - accuracy: 0.9942 - val_loss: 6.3366 - val_accuracy: 0.0988\n",
            "Epoch 31/100\n",
            "37/37 [==============================] - 3s 73ms/step - loss: 0.0406 - accuracy: 0.9938 - val_loss: 6.6648 - val_accuracy: 0.1074\n",
            "Epoch 32/100\n",
            "37/37 [==============================] - 3s 72ms/step - loss: 0.0431 - accuracy: 0.9935 - val_loss: 6.6381 - val_accuracy: 0.1034\n",
            "Epoch 33/100\n",
            "37/37 [==============================] - 3s 73ms/step - loss: 0.0451 - accuracy: 0.9946 - val_loss: 6.6929 - val_accuracy: 0.0968\n",
            "Epoch 34/100\n",
            "37/37 [==============================] - 3s 74ms/step - loss: 0.0488 - accuracy: 0.9931 - val_loss: 6.8010 - val_accuracy: 0.0908\n",
            "Epoch 35/100\n",
            "37/37 [==============================] - 3s 73ms/step - loss: 0.0419 - accuracy: 0.9931 - val_loss: 6.5778 - val_accuracy: 0.1034\n",
            "Epoch 36/100\n",
            "37/37 [==============================] - 3s 72ms/step - loss: 0.0367 - accuracy: 0.9929 - val_loss: 6.6097 - val_accuracy: 0.0978\n",
            "Epoch 37/100\n",
            "37/37 [==============================] - 3s 72ms/step - loss: 0.0299 - accuracy: 0.9940 - val_loss: 6.9523 - val_accuracy: 0.1019\n",
            "Epoch 38/100\n",
            "37/37 [==============================] - 3s 78ms/step - loss: 0.0342 - accuracy: 0.9946 - val_loss: 6.7206 - val_accuracy: 0.0963\n",
            "Epoch 39/100\n",
            "37/37 [==============================] - 3s 74ms/step - loss: 0.0266 - accuracy: 0.9938 - val_loss: 6.8513 - val_accuracy: 0.1054\n",
            "Epoch 40/100\n",
            "37/37 [==============================] - 3s 73ms/step - loss: 0.0359 - accuracy: 0.9935 - val_loss: 6.7316 - val_accuracy: 0.1029\n",
            "Epoch 41/100\n",
            "37/37 [==============================] - 3s 72ms/step - loss: 0.0339 - accuracy: 0.9940 - val_loss: 6.7808 - val_accuracy: 0.1034\n",
            "Epoch 42/100\n",
            "37/37 [==============================] - 3s 73ms/step - loss: 0.0355 - accuracy: 0.9946 - val_loss: 6.6186 - val_accuracy: 0.1019\n",
            "Epoch 43/100\n",
            "37/37 [==============================] - 3s 72ms/step - loss: 0.0351 - accuracy: 0.9931 - val_loss: 6.7000 - val_accuracy: 0.0998\n",
            "Epoch 44/100\n",
            "37/37 [==============================] - 3s 72ms/step - loss: 0.0299 - accuracy: 0.9940 - val_loss: 6.9109 - val_accuracy: 0.0988\n",
            "Epoch 45/100\n",
            "37/37 [==============================] - 3s 72ms/step - loss: 0.0324 - accuracy: 0.9940 - val_loss: 6.8165 - val_accuracy: 0.1064\n",
            "Epoch 46/100\n",
            "37/37 [==============================] - 3s 73ms/step - loss: 0.0300 - accuracy: 0.9938 - val_loss: 6.6682 - val_accuracy: 0.1009\n",
            "Epoch 47/100\n",
            "37/37 [==============================] - 3s 72ms/step - loss: 0.0311 - accuracy: 0.9938 - val_loss: 6.6305 - val_accuracy: 0.0983\n",
            "Epoch 48/100\n",
            "37/37 [==============================] - 3s 73ms/step - loss: 0.0298 - accuracy: 0.9944 - val_loss: 6.6551 - val_accuracy: 0.1004\n",
            "Epoch 49/100\n",
            "37/37 [==============================] - 3s 72ms/step - loss: 0.0318 - accuracy: 0.9933 - val_loss: 6.5595 - val_accuracy: 0.0988\n",
            "Epoch 50/100\n",
            "37/37 [==============================] - 3s 72ms/step - loss: 0.0301 - accuracy: 0.9929 - val_loss: 6.8877 - val_accuracy: 0.1004\n",
            "Epoch 51/100\n",
            "37/37 [==============================] - 3s 71ms/step - loss: 0.0305 - accuracy: 0.9931 - val_loss: 6.7760 - val_accuracy: 0.0993\n",
            "Epoch 52/100\n",
            "37/37 [==============================] - 3s 72ms/step - loss: 0.0258 - accuracy: 0.9933 - val_loss: 6.7064 - val_accuracy: 0.0988\n",
            "Epoch 53/100\n",
            "37/37 [==============================] - 3s 71ms/step - loss: 0.0253 - accuracy: 0.9935 - val_loss: 6.8163 - val_accuracy: 0.0968\n",
            "Epoch 54/100\n",
            "37/37 [==============================] - 3s 72ms/step - loss: 0.0232 - accuracy: 0.9940 - val_loss: 6.7471 - val_accuracy: 0.1064\n",
            "Epoch 55/100\n",
            "37/37 [==============================] - 3s 72ms/step - loss: 0.0242 - accuracy: 0.9935 - val_loss: 6.8006 - val_accuracy: 0.1079\n",
            "Epoch 56/100\n",
            "37/37 [==============================] - 3s 72ms/step - loss: 0.0226 - accuracy: 0.9935 - val_loss: 6.9439 - val_accuracy: 0.1014\n",
            "Epoch 57/100\n",
            "37/37 [==============================] - 3s 72ms/step - loss: 0.0247 - accuracy: 0.9944 - val_loss: 6.7805 - val_accuracy: 0.0973\n",
            "Epoch 58/100\n",
            "37/37 [==============================] - 3s 72ms/step - loss: 0.0276 - accuracy: 0.9933 - val_loss: 6.8587 - val_accuracy: 0.0963\n",
            "Epoch 59/100\n",
            "37/37 [==============================] - 3s 73ms/step - loss: 0.0262 - accuracy: 0.9938 - val_loss: 6.6835 - val_accuracy: 0.1049\n",
            "Epoch 60/100\n",
            "37/37 [==============================] - 3s 72ms/step - loss: 0.0184 - accuracy: 0.9940 - val_loss: 6.8427 - val_accuracy: 0.1009\n",
            "Epoch 61/100\n",
            "37/37 [==============================] - 3s 73ms/step - loss: 0.0219 - accuracy: 0.9944 - val_loss: 6.8836 - val_accuracy: 0.1084\n",
            "Epoch 62/100\n",
            "37/37 [==============================] - 3s 73ms/step - loss: 0.0250 - accuracy: 0.9938 - val_loss: 6.8241 - val_accuracy: 0.1089\n",
            "Epoch 63/100\n",
            "37/37 [==============================] - 3s 72ms/step - loss: 0.0262 - accuracy: 0.9940 - val_loss: 6.6909 - val_accuracy: 0.0973\n",
            "Epoch 64/100\n",
            "37/37 [==============================] - 3s 78ms/step - loss: 0.0223 - accuracy: 0.9944 - val_loss: 6.6255 - val_accuracy: 0.1074\n",
            "Epoch 65/100\n",
            "37/37 [==============================] - 3s 73ms/step - loss: 0.0184 - accuracy: 0.9938 - val_loss: 6.7903 - val_accuracy: 0.0993\n",
            "Epoch 66/100\n",
            "37/37 [==============================] - 3s 72ms/step - loss: 0.0211 - accuracy: 0.9938 - val_loss: 6.9563 - val_accuracy: 0.1004\n",
            "Epoch 67/100\n",
            "37/37 [==============================] - 3s 73ms/step - loss: 0.0217 - accuracy: 0.9942 - val_loss: 6.7907 - val_accuracy: 0.1014\n",
            "Epoch 68/100\n",
            "37/37 [==============================] - 3s 73ms/step - loss: 0.0248 - accuracy: 0.9938 - val_loss: 6.7786 - val_accuracy: 0.0963\n",
            "Epoch 69/100\n",
            "37/37 [==============================] - 3s 72ms/step - loss: 0.0210 - accuracy: 0.9940 - val_loss: 6.7779 - val_accuracy: 0.1049\n",
            "Epoch 70/100\n",
            "37/37 [==============================] - 3s 72ms/step - loss: 0.0176 - accuracy: 0.9935 - val_loss: 6.8476 - val_accuracy: 0.0988\n",
            "Epoch 71/100\n",
            "37/37 [==============================] - 3s 72ms/step - loss: 0.0166 - accuracy: 0.9933 - val_loss: 6.9475 - val_accuracy: 0.1044\n",
            "Epoch 72/100\n",
            "37/37 [==============================] - 3s 72ms/step - loss: 0.0185 - accuracy: 0.9938 - val_loss: 6.7184 - val_accuracy: 0.0993\n",
            "Epoch 73/100\n",
            "37/37 [==============================] - 3s 72ms/step - loss: 0.0195 - accuracy: 0.9938 - val_loss: 6.9197 - val_accuracy: 0.1024\n",
            "Epoch 74/100\n",
            "37/37 [==============================] - 3s 73ms/step - loss: 0.0158 - accuracy: 0.9931 - val_loss: 6.9645 - val_accuracy: 0.0998\n",
            "Epoch 75/100\n",
            "37/37 [==============================] - 3s 72ms/step - loss: 0.0166 - accuracy: 0.9929 - val_loss: 7.0510 - val_accuracy: 0.0948\n",
            "Epoch 76/100\n",
            "37/37 [==============================] - 3s 73ms/step - loss: 0.0180 - accuracy: 0.9938 - val_loss: 6.8883 - val_accuracy: 0.0983\n",
            "Epoch 77/100\n",
            "37/37 [==============================] - 3s 73ms/step - loss: 0.0171 - accuracy: 0.9929 - val_loss: 6.8743 - val_accuracy: 0.1034\n",
            "Epoch 78/100\n",
            "37/37 [==============================] - 3s 72ms/step - loss: 0.0191 - accuracy: 0.9938 - val_loss: 6.8812 - val_accuracy: 0.0953\n",
            "Epoch 79/100\n",
            "37/37 [==============================] - 3s 72ms/step - loss: 0.0182 - accuracy: 0.9940 - val_loss: 6.9564 - val_accuracy: 0.1024\n",
            "Epoch 80/100\n",
            "37/37 [==============================] - 3s 72ms/step - loss: 0.0209 - accuracy: 0.9942 - val_loss: 6.6730 - val_accuracy: 0.0988\n",
            "Epoch 81/100\n",
            "37/37 [==============================] - 3s 73ms/step - loss: 0.0179 - accuracy: 0.9942 - val_loss: 6.7219 - val_accuracy: 0.1024\n",
            "Epoch 82/100\n",
            "37/37 [==============================] - 3s 73ms/step - loss: 0.0167 - accuracy: 0.9940 - val_loss: 6.8409 - val_accuracy: 0.1044\n",
            "Epoch 83/100\n",
            "37/37 [==============================] - 3s 72ms/step - loss: 0.0154 - accuracy: 0.9944 - val_loss: 6.8900 - val_accuracy: 0.0993\n",
            "Epoch 84/100\n",
            "37/37 [==============================] - 3s 72ms/step - loss: 0.0147 - accuracy: 0.9931 - val_loss: 7.0306 - val_accuracy: 0.1019\n",
            "Epoch 85/100\n",
            "37/37 [==============================] - 3s 73ms/step - loss: 0.0124 - accuracy: 0.9946 - val_loss: 6.9683 - val_accuracy: 0.1044\n",
            "Epoch 86/100\n",
            "37/37 [==============================] - 3s 73ms/step - loss: 0.0150 - accuracy: 0.9935 - val_loss: 7.0342 - val_accuracy: 0.0978\n",
            "Epoch 87/100\n",
            "37/37 [==============================] - 3s 72ms/step - loss: 0.0137 - accuracy: 0.9929 - val_loss: 7.0057 - val_accuracy: 0.1009\n",
            "Epoch 88/100\n",
            "37/37 [==============================] - 3s 72ms/step - loss: 0.0120 - accuracy: 0.9933 - val_loss: 7.1566 - val_accuracy: 0.1004\n",
            "Epoch 89/100\n",
            "37/37 [==============================] - 3s 73ms/step - loss: 0.0124 - accuracy: 0.9940 - val_loss: 7.1756 - val_accuracy: 0.1004\n",
            "Epoch 90/100\n",
            "37/37 [==============================] - 3s 74ms/step - loss: 0.0125 - accuracy: 0.9933 - val_loss: 7.2264 - val_accuracy: 0.1039\n",
            "Epoch 91/100\n",
            "37/37 [==============================] - 3s 73ms/step - loss: 0.0119 - accuracy: 0.9935 - val_loss: 7.2628 - val_accuracy: 0.1014\n",
            "Epoch 92/100\n",
            "37/37 [==============================] - 3s 73ms/step - loss: 0.0142 - accuracy: 0.9938 - val_loss: 7.1516 - val_accuracy: 0.1034\n",
            "Epoch 93/100\n",
            "37/37 [==============================] - 3s 72ms/step - loss: 0.0134 - accuracy: 0.9940 - val_loss: 7.0826 - val_accuracy: 0.1009\n",
            "Epoch 94/100\n",
            "37/37 [==============================] - 3s 72ms/step - loss: 0.0123 - accuracy: 0.9940 - val_loss: 7.1110 - val_accuracy: 0.1024\n",
            "Epoch 95/100\n",
            "37/37 [==============================] - 3s 73ms/step - loss: 0.0138 - accuracy: 0.9927 - val_loss: 7.1323 - val_accuracy: 0.1024\n",
            "Epoch 96/100\n",
            "37/37 [==============================] - 3s 72ms/step - loss: 0.0114 - accuracy: 0.9944 - val_loss: 7.2004 - val_accuracy: 0.1024\n",
            "Epoch 97/100\n",
            "37/37 [==============================] - 3s 73ms/step - loss: 0.0111 - accuracy: 0.9938 - val_loss: 7.2594 - val_accuracy: 0.0998\n",
            "Epoch 98/100\n",
            "37/37 [==============================] - 3s 72ms/step - loss: 0.0129 - accuracy: 0.9938 - val_loss: 7.1069 - val_accuracy: 0.0993\n",
            "Epoch 99/100\n",
            "37/37 [==============================] - 3s 72ms/step - loss: 0.0118 - accuracy: 0.9940 - val_loss: 7.1791 - val_accuracy: 0.1004\n",
            "Epoch 100/100\n",
            "37/37 [==============================] - 3s 72ms/step - loss: 0.0122 - accuracy: 0.9938 - val_loss: 7.2058 - val_accuracy: 0.1014\n"
          ]
        }
      ]
    },
    {
      "cell_type": "code",
      "source": [
        "plt.plot(history.history['accuracy'])\n",
        "plt.plot(history.history['val_accuracy'])\n",
        "plt.title('Model Accuracy')\n",
        "plt.xlabel('epoch')\n",
        "plt.legend(['Train','Valition'], loc='upper left')\n",
        "plt.show()"
      ],
      "metadata": {
        "colab": {
          "base_uri": "https://localhost:8080/",
          "height": 295
        },
        "id": "PvVQ4TDsUSKC",
        "outputId": "4c0a1105-a0ea-484e-9ad2-90dfaa4a4bf5"
      },
      "execution_count": null,
      "outputs": [
        {
          "output_type": "display_data",
          "data": {
            "text/plain": [
              "<Figure size 432x288 with 1 Axes>"
            ],
            "image/png": "[encoded data removed]"
          },
          "metadata": {
            "needs_background": "light"
          }
        }
      ]
    },
    {
      "cell_type": "code",
      "source": [
        "model.save('/content/drive/MyDrive/age/age_model.h5')"
      ],
      "metadata": {
        "id": "g1B0M0uGrmbF"
      },
      "execution_count": null,
      "outputs": []
    }
  ]
}